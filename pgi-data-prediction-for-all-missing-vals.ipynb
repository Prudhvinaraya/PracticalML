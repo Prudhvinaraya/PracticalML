{
 "cells": [
  {
   "cell_type": "code",
   "execution_count": 1,
   "id": "e95d85a1",
   "metadata": {
    "_cell_guid": "b1076dfc-b9ad-4769-8c92-a6c4dae69d19",
    "_uuid": "8f2839f25d086af736a60e9eeb907d3b93b6e0e5",
    "execution": {
     "iopub.execute_input": "2024-06-20T05:35:48.763768Z",
     "iopub.status.busy": "2024-06-20T05:35:48.763392Z",
     "iopub.status.idle": "2024-06-20T05:35:51.782710Z",
     "shell.execute_reply": "2024-06-20T05:35:51.781076Z"
    },
    "papermill": {
     "duration": 3.03391,
     "end_time": "2024-06-20T05:35:51.785218",
     "exception": false,
     "start_time": "2024-06-20T05:35:48.751308",
     "status": "completed"
    },
    "tags": []
   },
   "outputs": [],
   "source": [
    "import pandas as pd\n",
    "import numpy as np\n",
    "import matplotlib.pyplot as plt\n",
    "import seaborn as sns\n",
    "from sklearn.ensemble import RandomForestClassifier"
   ]
  },
  {
   "cell_type": "code",
   "execution_count": 2,
   "id": "7c8954bb",
   "metadata": {
    "execution": {
     "iopub.execute_input": "2024-06-20T05:35:51.806806Z",
     "iopub.status.busy": "2024-06-20T05:35:51.806190Z",
     "iopub.status.idle": "2024-06-20T05:35:52.989739Z",
     "shell.execute_reply": "2024-06-20T05:35:52.988901Z"
    },
    "papermill": {
     "duration": 1.196368,
     "end_time": "2024-06-20T05:35:52.991505",
     "exception": false,
     "start_time": "2024-06-20T05:35:51.795137",
     "status": "completed"
    },
    "tags": []
   },
   "outputs": [
    {
     "data": {
      "text/html": [
       "<div>\n",
       "<style scoped>\n",
       "    .dataframe tbody tr th:only-of-type {\n",
       "        vertical-align: middle;\n",
       "    }\n",
       "\n",
       "    .dataframe tbody tr th {\n",
       "        vertical-align: top;\n",
       "    }\n",
       "\n",
       "    .dataframe thead th {\n",
       "        text-align: right;\n",
       "    }\n",
       "</style>\n",
       "<table border=\"1\" class=\"dataframe\">\n",
       "  <thead>\n",
       "    <tr style=\"text-align: right;\">\n",
       "      <th></th>\n",
       "      <th>Sample Inf.</th>\n",
       "      <th>Order Type</th>\n",
       "      <th>Measurement Mode</th>\n",
       "      <th>Discrete</th>\n",
       "      <th>Judgment</th>\n",
       "      <th>Positive(Diff.)</th>\n",
       "      <th>Positive(Morph.)</th>\n",
       "      <th>Positive(Count)</th>\n",
       "      <th>WBC Abnormal</th>\n",
       "      <th>WBC Suspect</th>\n",
       "      <th>...</th>\n",
       "      <th>[MO-Z(ch)]</th>\n",
       "      <th>[NE-WX]</th>\n",
       "      <th>[NE-WY]</th>\n",
       "      <th>[NE-WZ]</th>\n",
       "      <th>[LY-WX]</th>\n",
       "      <th>[LY-WY]</th>\n",
       "      <th>[LY-WZ]</th>\n",
       "      <th>[MO-WX]</th>\n",
       "      <th>[MO-WY]</th>\n",
       "      <th>[MO-WZ]</th>\n",
       "    </tr>\n",
       "  </thead>\n",
       "  <tbody>\n",
       "    <tr>\n",
       "      <th>0</th>\n",
       "      <td>1</td>\n",
       "      <td>0</td>\n",
       "      <td>2</td>\n",
       "      <td>4</td>\n",
       "      <td>NaN</td>\n",
       "      <td>0</td>\n",
       "      <td>0</td>\n",
       "      <td>0</td>\n",
       "      <td>0.0</td>\n",
       "      <td>0.0</td>\n",
       "      <td>...</td>\n",
       "      <td>95.6</td>\n",
       "      <td>357.0</td>\n",
       "      <td>580.0</td>\n",
       "      <td>657.0</td>\n",
       "      <td>772.0</td>\n",
       "      <td>602.0</td>\n",
       "      <td>706.0</td>\n",
       "      <td>368.0</td>\n",
       "      <td>837.0</td>\n",
       "      <td>743.0</td>\n",
       "    </tr>\n",
       "    <tr>\n",
       "      <th>1</th>\n",
       "      <td>1</td>\n",
       "      <td>0</td>\n",
       "      <td>2</td>\n",
       "      <td>3</td>\n",
       "      <td>NaN</td>\n",
       "      <td>0</td>\n",
       "      <td>0</td>\n",
       "      <td>0</td>\n",
       "      <td>0.0</td>\n",
       "      <td>0.0</td>\n",
       "      <td>...</td>\n",
       "      <td>104.3</td>\n",
       "      <td>332.0</td>\n",
       "      <td>725.0</td>\n",
       "      <td>759.0</td>\n",
       "      <td>725.0</td>\n",
       "      <td>940.0</td>\n",
       "      <td>741.0</td>\n",
       "      <td>366.0</td>\n",
       "      <td>913.0</td>\n",
       "      <td>786.0</td>\n",
       "    </tr>\n",
       "    <tr>\n",
       "      <th>2</th>\n",
       "      <td>1</td>\n",
       "      <td>0</td>\n",
       "      <td>2</td>\n",
       "      <td>3</td>\n",
       "      <td>NaN</td>\n",
       "      <td>0</td>\n",
       "      <td>0</td>\n",
       "      <td>0</td>\n",
       "      <td>0.0</td>\n",
       "      <td>0.0</td>\n",
       "      <td>...</td>\n",
       "      <td>99.0</td>\n",
       "      <td>349.0</td>\n",
       "      <td>708.0</td>\n",
       "      <td>727.0</td>\n",
       "      <td>735.0</td>\n",
       "      <td>756.0</td>\n",
       "      <td>697.0</td>\n",
       "      <td>316.0</td>\n",
       "      <td>762.0</td>\n",
       "      <td>767.0</td>\n",
       "    </tr>\n",
       "    <tr>\n",
       "      <th>3</th>\n",
       "      <td>1</td>\n",
       "      <td>0</td>\n",
       "      <td>2</td>\n",
       "      <td>4</td>\n",
       "      <td>NaN</td>\n",
       "      <td>0</td>\n",
       "      <td>0</td>\n",
       "      <td>0</td>\n",
       "      <td>0.0</td>\n",
       "      <td>0.0</td>\n",
       "      <td>...</td>\n",
       "      <td>100.1</td>\n",
       "      <td>365.0</td>\n",
       "      <td>667.0</td>\n",
       "      <td>712.0</td>\n",
       "      <td>754.0</td>\n",
       "      <td>708.0</td>\n",
       "      <td>653.0</td>\n",
       "      <td>368.0</td>\n",
       "      <td>753.0</td>\n",
       "      <td>709.0</td>\n",
       "    </tr>\n",
       "    <tr>\n",
       "      <th>4</th>\n",
       "      <td>1</td>\n",
       "      <td>0</td>\n",
       "      <td>2</td>\n",
       "      <td>3</td>\n",
       "      <td>NaN</td>\n",
       "      <td>0</td>\n",
       "      <td>0</td>\n",
       "      <td>0</td>\n",
       "      <td>0.0</td>\n",
       "      <td>0.0</td>\n",
       "      <td>...</td>\n",
       "      <td>100.6</td>\n",
       "      <td>318.0</td>\n",
       "      <td>622.0</td>\n",
       "      <td>795.0</td>\n",
       "      <td>771.0</td>\n",
       "      <td>718.0</td>\n",
       "      <td>738.0</td>\n",
       "      <td>374.0</td>\n",
       "      <td>796.0</td>\n",
       "      <td>686.0</td>\n",
       "    </tr>\n",
       "    <tr>\n",
       "      <th>...</th>\n",
       "      <td>...</td>\n",
       "      <td>...</td>\n",
       "      <td>...</td>\n",
       "      <td>...</td>\n",
       "      <td>...</td>\n",
       "      <td>...</td>\n",
       "      <td>...</td>\n",
       "      <td>...</td>\n",
       "      <td>...</td>\n",
       "      <td>...</td>\n",
       "      <td>...</td>\n",
       "      <td>...</td>\n",
       "      <td>...</td>\n",
       "      <td>...</td>\n",
       "      <td>...</td>\n",
       "      <td>...</td>\n",
       "      <td>...</td>\n",
       "      <td>...</td>\n",
       "      <td>...</td>\n",
       "      <td>...</td>\n",
       "      <td>...</td>\n",
       "    </tr>\n",
       "    <tr>\n",
       "      <th>82149</th>\n",
       "      <td>1</td>\n",
       "      <td>0</td>\n",
       "      <td>2</td>\n",
       "      <td>1</td>\n",
       "      <td>1.0</td>\n",
       "      <td>0</td>\n",
       "      <td>1</td>\n",
       "      <td>0</td>\n",
       "      <td>0.0</td>\n",
       "      <td>0.0</td>\n",
       "      <td>...</td>\n",
       "      <td>60.8</td>\n",
       "      <td>297.0</td>\n",
       "      <td>566.0</td>\n",
       "      <td>679.0</td>\n",
       "      <td>446.0</td>\n",
       "      <td>884.0</td>\n",
       "      <td>569.0</td>\n",
       "      <td>248.0</td>\n",
       "      <td>637.0</td>\n",
       "      <td>641.0</td>\n",
       "    </tr>\n",
       "    <tr>\n",
       "      <th>82150</th>\n",
       "      <td>1</td>\n",
       "      <td>0</td>\n",
       "      <td>2</td>\n",
       "      <td>1</td>\n",
       "      <td>1.0</td>\n",
       "      <td>0</td>\n",
       "      <td>1</td>\n",
       "      <td>1</td>\n",
       "      <td>1.0</td>\n",
       "      <td>0.0</td>\n",
       "      <td>...</td>\n",
       "      <td>64.6</td>\n",
       "      <td>330.0</td>\n",
       "      <td>617.0</td>\n",
       "      <td>736.0</td>\n",
       "      <td>635.0</td>\n",
       "      <td>1163.0</td>\n",
       "      <td>603.0</td>\n",
       "      <td>238.0</td>\n",
       "      <td>669.0</td>\n",
       "      <td>573.0</td>\n",
       "    </tr>\n",
       "    <tr>\n",
       "      <th>82151</th>\n",
       "      <td>1</td>\n",
       "      <td>0</td>\n",
       "      <td>2</td>\n",
       "      <td>1</td>\n",
       "      <td>1.0</td>\n",
       "      <td>1</td>\n",
       "      <td>0</td>\n",
       "      <td>1</td>\n",
       "      <td>1.0</td>\n",
       "      <td>0.0</td>\n",
       "      <td>...</td>\n",
       "      <td>72.1</td>\n",
       "      <td>395.0</td>\n",
       "      <td>711.0</td>\n",
       "      <td>636.0</td>\n",
       "      <td>594.0</td>\n",
       "      <td>631.0</td>\n",
       "      <td>450.0</td>\n",
       "      <td>183.0</td>\n",
       "      <td>60.0</td>\n",
       "      <td>291.0</td>\n",
       "    </tr>\n",
       "    <tr>\n",
       "      <th>82152</th>\n",
       "      <td>1</td>\n",
       "      <td>0</td>\n",
       "      <td>2</td>\n",
       "      <td>1</td>\n",
       "      <td>1.0</td>\n",
       "      <td>0</td>\n",
       "      <td>1</td>\n",
       "      <td>1</td>\n",
       "      <td>1.0</td>\n",
       "      <td>1.0</td>\n",
       "      <td>...</td>\n",
       "      <td>63.5</td>\n",
       "      <td>319.0</td>\n",
       "      <td>740.0</td>\n",
       "      <td>734.0</td>\n",
       "      <td>1111.0</td>\n",
       "      <td>1591.0</td>\n",
       "      <td>720.0</td>\n",
       "      <td>271.0</td>\n",
       "      <td>651.0</td>\n",
       "      <td>552.0</td>\n",
       "    </tr>\n",
       "    <tr>\n",
       "      <th>82153</th>\n",
       "      <td>1</td>\n",
       "      <td>0</td>\n",
       "      <td>2</td>\n",
       "      <td>1</td>\n",
       "      <td>1.0</td>\n",
       "      <td>0</td>\n",
       "      <td>1</td>\n",
       "      <td>1</td>\n",
       "      <td>0.0</td>\n",
       "      <td>1.0</td>\n",
       "      <td>...</td>\n",
       "      <td>64.8</td>\n",
       "      <td>309.0</td>\n",
       "      <td>690.0</td>\n",
       "      <td>651.0</td>\n",
       "      <td>647.0</td>\n",
       "      <td>1196.0</td>\n",
       "      <td>622.0</td>\n",
       "      <td>224.0</td>\n",
       "      <td>782.0</td>\n",
       "      <td>525.0</td>\n",
       "    </tr>\n",
       "  </tbody>\n",
       "</table>\n",
       "<p>79741 rows × 79 columns</p>\n",
       "</div>"
      ],
      "text/plain": [
       "       Sample Inf.  Order Type  Measurement Mode  Discrete  Judgment  \\\n",
       "0                1           0                 2         4       NaN   \n",
       "1                1           0                 2         3       NaN   \n",
       "2                1           0                 2         3       NaN   \n",
       "3                1           0                 2         4       NaN   \n",
       "4                1           0                 2         3       NaN   \n",
       "...            ...         ...               ...       ...       ...   \n",
       "82149            1           0                 2         1       1.0   \n",
       "82150            1           0                 2         1       1.0   \n",
       "82151            1           0                 2         1       1.0   \n",
       "82152            1           0                 2         1       1.0   \n",
       "82153            1           0                 2         1       1.0   \n",
       "\n",
       "       Positive(Diff.)  Positive(Morph.)  Positive(Count)  WBC Abnormal  \\\n",
       "0                    0                 0                0           0.0   \n",
       "1                    0                 0                0           0.0   \n",
       "2                    0                 0                0           0.0   \n",
       "3                    0                 0                0           0.0   \n",
       "4                    0                 0                0           0.0   \n",
       "...                ...               ...              ...           ...   \n",
       "82149                0                 1                0           0.0   \n",
       "82150                0                 1                1           1.0   \n",
       "82151                1                 0                1           1.0   \n",
       "82152                0                 1                1           1.0   \n",
       "82153                0                 1                1           0.0   \n",
       "\n",
       "       WBC Suspect  ...  [MO-Z(ch)]  [NE-WX]  [NE-WY]  [NE-WZ]  [LY-WX]  \\\n",
       "0              0.0  ...        95.6    357.0    580.0    657.0    772.0   \n",
       "1              0.0  ...       104.3    332.0    725.0    759.0    725.0   \n",
       "2              0.0  ...        99.0    349.0    708.0    727.0    735.0   \n",
       "3              0.0  ...       100.1    365.0    667.0    712.0    754.0   \n",
       "4              0.0  ...       100.6    318.0    622.0    795.0    771.0   \n",
       "...            ...  ...         ...      ...      ...      ...      ...   \n",
       "82149          0.0  ...        60.8    297.0    566.0    679.0    446.0   \n",
       "82150          0.0  ...        64.6    330.0    617.0    736.0    635.0   \n",
       "82151          0.0  ...        72.1    395.0    711.0    636.0    594.0   \n",
       "82152          1.0  ...        63.5    319.0    740.0    734.0   1111.0   \n",
       "82153          1.0  ...        64.8    309.0    690.0    651.0    647.0   \n",
       "\n",
       "       [LY-WY]  [LY-WZ]  [MO-WX]  [MO-WY]  [MO-WZ]  \n",
       "0        602.0    706.0    368.0    837.0    743.0  \n",
       "1        940.0    741.0    366.0    913.0    786.0  \n",
       "2        756.0    697.0    316.0    762.0    767.0  \n",
       "3        708.0    653.0    368.0    753.0    709.0  \n",
       "4        718.0    738.0    374.0    796.0    686.0  \n",
       "...        ...      ...      ...      ...      ...  \n",
       "82149    884.0    569.0    248.0    637.0    641.0  \n",
       "82150   1163.0    603.0    238.0    669.0    573.0  \n",
       "82151    631.0    450.0    183.0     60.0    291.0  \n",
       "82152   1591.0    720.0    271.0    651.0    552.0  \n",
       "82153   1196.0    622.0    224.0    782.0    525.0  \n",
       "\n",
       "[79741 rows x 79 columns]"
      ]
     },
     "execution_count": 2,
     "metadata": {},
     "output_type": "execute_result"
    }
   ],
   "source": [
    "pgi_data=pd.read_csv('/kaggle/input/doctors-suggested-fianlto-be-predicted/Doctors_Suggested_Final(To_be_predicted).csv',low_memory=False,index_col=0)\n",
    "pgi_data"
   ]
  },
  {
   "cell_type": "code",
   "execution_count": 3,
   "id": "5a149c04",
   "metadata": {
    "execution": {
     "iopub.execute_input": "2024-06-20T05:35:53.014668Z",
     "iopub.status.busy": "2024-06-20T05:35:53.014328Z",
     "iopub.status.idle": "2024-06-20T05:35:53.032752Z",
     "shell.execute_reply": "2024-06-20T05:35:53.031522Z"
    },
    "papermill": {
     "duration": 0.032916,
     "end_time": "2024-06-20T05:35:53.035128",
     "exception": false,
     "start_time": "2024-06-20T05:35:53.002212",
     "status": "completed"
    },
    "tags": []
   },
   "outputs": [],
   "source": [
    "#splitting the data \n",
    "Training=pgi_data[pgi_data['Judgment'].notna()]\n",
    "Prediction=pgi_data[pgi_data['Judgment'].isna()]"
   ]
  },
  {
   "cell_type": "markdown",
   "id": "b94c6858",
   "metadata": {
    "papermill": {
     "duration": 0.010088,
     "end_time": "2024-06-20T05:35:53.055689",
     "exception": false,
     "start_time": "2024-06-20T05:35:53.045601",
     "status": "completed"
    },
    "tags": []
   },
   "source": [
    "**How many null values in my Data**"
   ]
  },
  {
   "cell_type": "code",
   "execution_count": 4,
   "id": "049ea24c",
   "metadata": {
    "execution": {
     "iopub.execute_input": "2024-06-20T05:35:53.078585Z",
     "iopub.status.busy": "2024-06-20T05:35:53.078147Z",
     "iopub.status.idle": "2024-06-20T05:35:53.098083Z",
     "shell.execute_reply": "2024-06-20T05:35:53.095997Z"
    },
    "papermill": {
     "duration": 0.034686,
     "end_time": "2024-06-20T05:35:53.100691",
     "exception": false,
     "start_time": "2024-06-20T05:35:53.066005",
     "status": "completed"
    },
    "tags": []
   },
   "outputs": [
    {
     "name": "stdout",
     "output_type": "stream",
     "text": [
      "NEUT#(10^3/uL)       501\n",
      "LYMPH#(10^3/uL)      501\n",
      "MONO#(10^3/uL)       501\n",
      "EO#(10^3/uL)         501\n",
      "BASO#(10^3/uL)       501\n",
      "NEUT%(%)             501\n",
      "LYMPH%(%)            501\n",
      "MONO%(%)             501\n",
      "EO%(%)               501\n",
      "BASO%(%)             501\n",
      "IG#(10^3/uL)         501\n",
      "IG%(%)               501\n",
      "[WBC-D(10^3/uL)]     501\n",
      "[TNC-D(10^3/uL)]     501\n",
      "[NEUT#&(10^3/uL)]    501\n",
      "[NEUT%&(%)]          501\n",
      "[LYMP#&(10^3/uL)]    501\n",
      "[LYMP%&(%)]          501\n",
      "[HFLC#(10^3/uL)]     501\n",
      "[HFLC%(%)]           501\n",
      "[BA-D#(10^3/uL)]     501\n",
      "[BA-D%(%)]           501\n",
      "[NE-SSC(ch)]         501\n",
      "[NE-SFL(ch)]         501\n",
      "[NE-FSC(ch)]         501\n",
      "[LY-X(ch)]           501\n",
      "[LY-Y(ch)]           501\n",
      "[LY-Z(ch)]           501\n",
      "[MO-X(ch)]           501\n",
      "[MO-Y(ch)]           501\n",
      "[MO-Z(ch)]           501\n",
      "[NE-WX]              501\n",
      "[NE-WY]              501\n",
      "[NE-WZ]              501\n",
      "[LY-WX]              501\n",
      "[LY-WY]              501\n",
      "[LY-WZ]              501\n",
      "[MO-WX]              501\n",
      "[MO-WY]              501\n",
      "[MO-WZ]              501\n",
      "dtype: int64\n"
     ]
    }
   ],
   "source": [
    "null_counts = Training.isnull().sum()\n",
    "\n",
    "# Filter columns with null values\n",
    "columns_with_nulls = null_counts[null_counts > 0]\n",
    "\n",
    "# Display columns with the count of null values\n",
    "print(columns_with_nulls)\n",
    "\n",
    "cols_names_with_nulls = Training.columns[Training.isnull().any()].tolist()\n"
   ]
  },
  {
   "cell_type": "markdown",
   "id": "a08b9a17",
   "metadata": {
    "papermill": {
     "duration": 0.010107,
     "end_time": "2024-06-20T05:35:53.121179",
     "exception": false,
     "start_time": "2024-06-20T05:35:53.111072",
     "status": "completed"
    },
    "tags": []
   },
   "source": [
    "**Our Aim is to predict the Label \"Judgment\"**\n",
    "* Let's Drop These columns from the Training"
   ]
  },
  {
   "cell_type": "code",
   "execution_count": 5,
   "id": "e5df1805",
   "metadata": {
    "execution": {
     "iopub.execute_input": "2024-06-20T05:35:53.143032Z",
     "iopub.status.busy": "2024-06-20T05:35:53.142701Z",
     "iopub.status.idle": "2024-06-20T05:35:53.152170Z",
     "shell.execute_reply": "2024-06-20T05:35:53.150808Z"
    },
    "papermill": {
     "duration": 0.022906,
     "end_time": "2024-06-20T05:35:53.154348",
     "exception": false,
     "start_time": "2024-06-20T05:35:53.131442",
     "status": "completed"
    },
    "tags": []
   },
   "outputs": [],
   "source": [
    "Training=Training.drop(cols_names_with_nulls,axis=1)"
   ]
  },
  {
   "cell_type": "code",
   "execution_count": 6,
   "id": "f2c2f990",
   "metadata": {
    "execution": {
     "iopub.execute_input": "2024-06-20T05:35:53.176311Z",
     "iopub.status.busy": "2024-06-20T05:35:53.175997Z",
     "iopub.status.idle": "2024-06-20T05:35:53.181124Z",
     "shell.execute_reply": "2024-06-20T05:35:53.179704Z"
    },
    "papermill": {
     "duration": 0.018815,
     "end_time": "2024-06-20T05:35:53.183392",
     "exception": false,
     "start_time": "2024-06-20T05:35:53.164577",
     "status": "completed"
    },
    "tags": []
   },
   "outputs": [],
   "source": [
    "# Training.isna().sum()"
   ]
  },
  {
   "cell_type": "markdown",
   "id": "c5380de2",
   "metadata": {
    "papermill": {
     "duration": 0.009858,
     "end_time": "2024-06-20T05:35:53.203559",
     "exception": false,
     "start_time": "2024-06-20T05:35:53.193701",
     "status": "completed"
    },
    "tags": []
   },
   "source": [
    "**No null values in the training data**"
   ]
  },
  {
   "cell_type": "code",
   "execution_count": 7,
   "id": "93793a82",
   "metadata": {
    "execution": {
     "iopub.execute_input": "2024-06-20T05:35:53.225343Z",
     "iopub.status.busy": "2024-06-20T05:35:53.225020Z",
     "iopub.status.idle": "2024-06-20T05:35:53.233831Z",
     "shell.execute_reply": "2024-06-20T05:35:53.232725Z"
    },
    "papermill": {
     "duration": 0.022484,
     "end_time": "2024-06-20T05:35:53.236353",
     "exception": false,
     "start_time": "2024-06-20T05:35:53.213869",
     "status": "completed"
    },
    "tags": []
   },
   "outputs": [
    {
     "data": {
      "text/plain": [
       "Sample Inf.           0\n",
       "Order Type            0\n",
       "Measurement Mode      0\n",
       "Discrete              0\n",
       "Judgment            744\n",
       "                   ... \n",
       "[LY-WY]               0\n",
       "[LY-WZ]               0\n",
       "[MO-WX]               0\n",
       "[MO-WY]               0\n",
       "[MO-WZ]               0\n",
       "Length: 79, dtype: int64"
      ]
     },
     "execution_count": 7,
     "metadata": {},
     "output_type": "execute_result"
    }
   ],
   "source": [
    "Prediction.isna().sum()"
   ]
  },
  {
   "cell_type": "code",
   "execution_count": 8,
   "id": "b82cc297",
   "metadata": {
    "execution": {
     "iopub.execute_input": "2024-06-20T05:35:53.259462Z",
     "iopub.status.busy": "2024-06-20T05:35:53.259131Z",
     "iopub.status.idle": "2024-06-20T05:35:53.264745Z",
     "shell.execute_reply": "2024-06-20T05:35:53.263569Z"
    },
    "papermill": {
     "duration": 0.019486,
     "end_time": "2024-06-20T05:35:53.266570",
     "exception": false,
     "start_time": "2024-06-20T05:35:53.247084",
     "status": "completed"
    },
    "tags": []
   },
   "outputs": [
    {
     "name": "stdout",
     "output_type": "stream",
     "text": [
      "['Sample Inf.', 'Order Type', 'Measurement Mode', 'Discrete', 'Judgment', 'Positive(Diff.)', 'Positive(Morph.)', 'Positive(Count)', 'WBC Abnormal', 'WBC Suspect', 'RBC Abnormal', 'PLT Abnormal', 'PLT Suspect', 'PLT Info.', 'Output', 'WBC(10^3/uL)', 'RBC(10^6/uL)', 'HGB(g/dL)', 'HCT(%)', 'MCV(fL)', 'MCH(pg)', 'MCHC(g/dL)', 'PLT(10^3/uL)', 'RDW-SD(fL)', 'RDW-CV(%)', 'PDW(fL)', 'MPV(fL)', 'P-LCR(%)', 'PCT(%)', 'NRBC#(10^3/uL)', 'NRBC%(%)', '[PLT-I(10^3/uL)]', 'MicroR(%)', 'MacroR(%)', '[TNC(10^3/uL)]', '[WBC-N(10^3/uL)]', '[TNC-N(10^3/uL)]', '[BA-N#(10^3/uL)]', '[BA-N%(%)]']\n"
     ]
    }
   ],
   "source": [
    "print(Training.columns.tolist())"
   ]
  },
  {
   "cell_type": "markdown",
   "id": "1e3ad909",
   "metadata": {
    "papermill": {
     "duration": 0.010102,
     "end_time": "2024-06-20T05:35:53.287127",
     "exception": false,
     "start_time": "2024-06-20T05:35:53.277025",
     "status": "completed"
    },
    "tags": []
   },
   "source": [
    "Let's Use the Training data to build model and test it "
   ]
  },
  {
   "cell_type": "markdown",
   "id": "e7f2f26e",
   "metadata": {
    "papermill": {
     "duration": 0.01068,
     "end_time": "2024-06-20T05:35:53.308424",
     "exception": false,
     "start_time": "2024-06-20T05:35:53.297744",
     "status": "completed"
    },
    "tags": []
   },
   "source": [
    "**Data Modelling for Model Building**"
   ]
  },
  {
   "cell_type": "code",
   "execution_count": 9,
   "id": "acf5c18a",
   "metadata": {
    "execution": {
     "iopub.execute_input": "2024-06-20T05:35:53.332947Z",
     "iopub.status.busy": "2024-06-20T05:35:53.332571Z",
     "iopub.status.idle": "2024-06-20T05:35:53.342299Z",
     "shell.execute_reply": "2024-06-20T05:35:53.341062Z"
    },
    "papermill": {
     "duration": 0.025002,
     "end_time": "2024-06-20T05:35:53.344513",
     "exception": false,
     "start_time": "2024-06-20T05:35:53.319511",
     "status": "completed"
    },
    "tags": []
   },
   "outputs": [],
   "source": [
    "X=Training.drop('Judgment',axis=1)\n",
    "Y=Training['Judgment']"
   ]
  },
  {
   "cell_type": "code",
   "execution_count": 10,
   "id": "70828491",
   "metadata": {
    "execution": {
     "iopub.execute_input": "2024-06-20T05:35:53.367855Z",
     "iopub.status.busy": "2024-06-20T05:35:53.367489Z",
     "iopub.status.idle": "2024-06-20T05:35:53.399888Z",
     "shell.execute_reply": "2024-06-20T05:35:53.398703Z"
    },
    "papermill": {
     "duration": 0.04677,
     "end_time": "2024-06-20T05:35:53.402135",
     "exception": false,
     "start_time": "2024-06-20T05:35:53.355365",
     "status": "completed"
    },
    "tags": []
   },
   "outputs": [],
   "source": [
    "from sklearn.model_selection import train_test_split\n",
    "x_train,x_test,y_train,y_test=train_test_split(X,Y,test_size=0.2,random_state=7)"
   ]
  },
  {
   "cell_type": "markdown",
   "id": "373a086f",
   "metadata": {
    "papermill": {
     "duration": 0.010255,
     "end_time": "2024-06-20T05:35:53.422955",
     "exception": false,
     "start_time": "2024-06-20T05:35:53.412700",
     "status": "completed"
    },
    "tags": []
   },
   "source": [
    "**Model Defination**"
   ]
  },
  {
   "cell_type": "code",
   "execution_count": 11,
   "id": "04b7a14c",
   "metadata": {
    "execution": {
     "iopub.execute_input": "2024-06-20T05:35:53.446686Z",
     "iopub.status.busy": "2024-06-20T05:35:53.446211Z",
     "iopub.status.idle": "2024-06-20T05:35:58.539989Z",
     "shell.execute_reply": "2024-06-20T05:35:58.538012Z"
    },
    "papermill": {
     "duration": 5.109776,
     "end_time": "2024-06-20T05:35:58.543388",
     "exception": false,
     "start_time": "2024-06-20T05:35:53.433612",
     "status": "completed"
    },
    "tags": []
   },
   "outputs": [
    {
     "data": {
      "text/html": [
       "<style>#sk-container-id-1 {color: black;background-color: white;}#sk-container-id-1 pre{padding: 0;}#sk-container-id-1 div.sk-toggleable {background-color: white;}#sk-container-id-1 label.sk-toggleable__label {cursor: pointer;display: block;width: 100%;margin-bottom: 0;padding: 0.3em;box-sizing: border-box;text-align: center;}#sk-container-id-1 label.sk-toggleable__label-arrow:before {content: \"▸\";float: left;margin-right: 0.25em;color: #696969;}#sk-container-id-1 label.sk-toggleable__label-arrow:hover:before {color: black;}#sk-container-id-1 div.sk-estimator:hover label.sk-toggleable__label-arrow:before {color: black;}#sk-container-id-1 div.sk-toggleable__content {max-height: 0;max-width: 0;overflow: hidden;text-align: left;background-color: #f0f8ff;}#sk-container-id-1 div.sk-toggleable__content pre {margin: 0.2em;color: black;border-radius: 0.25em;background-color: #f0f8ff;}#sk-container-id-1 input.sk-toggleable__control:checked~div.sk-toggleable__content {max-height: 200px;max-width: 100%;overflow: auto;}#sk-container-id-1 input.sk-toggleable__control:checked~label.sk-toggleable__label-arrow:before {content: \"▾\";}#sk-container-id-1 div.sk-estimator input.sk-toggleable__control:checked~label.sk-toggleable__label {background-color: #d4ebff;}#sk-container-id-1 div.sk-label input.sk-toggleable__control:checked~label.sk-toggleable__label {background-color: #d4ebff;}#sk-container-id-1 input.sk-hidden--visually {border: 0;clip: rect(1px 1px 1px 1px);clip: rect(1px, 1px, 1px, 1px);height: 1px;margin: -1px;overflow: hidden;padding: 0;position: absolute;width: 1px;}#sk-container-id-1 div.sk-estimator {font-family: monospace;background-color: #f0f8ff;border: 1px dotted black;border-radius: 0.25em;box-sizing: border-box;margin-bottom: 0.5em;}#sk-container-id-1 div.sk-estimator:hover {background-color: #d4ebff;}#sk-container-id-1 div.sk-parallel-item::after {content: \"\";width: 100%;border-bottom: 1px solid gray;flex-grow: 1;}#sk-container-id-1 div.sk-label:hover label.sk-toggleable__label {background-color: #d4ebff;}#sk-container-id-1 div.sk-serial::before {content: \"\";position: absolute;border-left: 1px solid gray;box-sizing: border-box;top: 0;bottom: 0;left: 50%;z-index: 0;}#sk-container-id-1 div.sk-serial {display: flex;flex-direction: column;align-items: center;background-color: white;padding-right: 0.2em;padding-left: 0.2em;position: relative;}#sk-container-id-1 div.sk-item {position: relative;z-index: 1;}#sk-container-id-1 div.sk-parallel {display: flex;align-items: stretch;justify-content: center;background-color: white;position: relative;}#sk-container-id-1 div.sk-item::before, #sk-container-id-1 div.sk-parallel-item::before {content: \"\";position: absolute;border-left: 1px solid gray;box-sizing: border-box;top: 0;bottom: 0;left: 50%;z-index: -1;}#sk-container-id-1 div.sk-parallel-item {display: flex;flex-direction: column;z-index: 1;position: relative;background-color: white;}#sk-container-id-1 div.sk-parallel-item:first-child::after {align-self: flex-end;width: 50%;}#sk-container-id-1 div.sk-parallel-item:last-child::after {align-self: flex-start;width: 50%;}#sk-container-id-1 div.sk-parallel-item:only-child::after {width: 0;}#sk-container-id-1 div.sk-dashed-wrapped {border: 1px dashed gray;margin: 0 0.4em 0.5em 0.4em;box-sizing: border-box;padding-bottom: 0.4em;background-color: white;}#sk-container-id-1 div.sk-label label {font-family: monospace;font-weight: bold;display: inline-block;line-height: 1.2em;}#sk-container-id-1 div.sk-label-container {text-align: center;}#sk-container-id-1 div.sk-container {/* jupyter's `normalize.less` sets `[hidden] { display: none; }` but bootstrap.min.css set `[hidden] { display: none !important; }` so we also need the `!important` here to be able to override the default hidden behavior on the sphinx rendered scikit-learn.org. See: https://github.com/scikit-learn/scikit-learn/issues/21755 */display: inline-block !important;position: relative;}#sk-container-id-1 div.sk-text-repr-fallback {display: none;}</style><div id=\"sk-container-id-1\" class=\"sk-top-container\"><div class=\"sk-text-repr-fallback\"><pre>RandomForestClassifier(random_state=7)</pre><b>In a Jupyter environment, please rerun this cell to show the HTML representation or trust the notebook. <br />On GitHub, the HTML representation is unable to render, please try loading this page with nbviewer.org.</b></div><div class=\"sk-container\" hidden><div class=\"sk-item\"><div class=\"sk-estimator sk-toggleable\"><input class=\"sk-toggleable__control sk-hidden--visually\" id=\"sk-estimator-id-1\" type=\"checkbox\" checked><label for=\"sk-estimator-id-1\" class=\"sk-toggleable__label sk-toggleable__label-arrow\">RandomForestClassifier</label><div class=\"sk-toggleable__content\"><pre>RandomForestClassifier(random_state=7)</pre></div></div></div></div></div>"
      ],
      "text/plain": [
       "RandomForestClassifier(random_state=7)"
      ]
     },
     "execution_count": 11,
     "metadata": {},
     "output_type": "execute_result"
    }
   ],
   "source": [
    "from sklearn.ensemble import RandomForestClassifier\n",
    "RF=RandomForestClassifier(n_estimators=100,random_state=7)\n",
    "RF.fit(x_train,y_train)"
   ]
  },
  {
   "cell_type": "code",
   "execution_count": 12,
   "id": "4b3d42e6",
   "metadata": {
    "execution": {
     "iopub.execute_input": "2024-06-20T05:35:58.570030Z",
     "iopub.status.busy": "2024-06-20T05:35:58.569699Z",
     "iopub.status.idle": "2024-06-20T05:35:58.670371Z",
     "shell.execute_reply": "2024-06-20T05:35:58.669141Z"
    },
    "papermill": {
     "duration": 0.117398,
     "end_time": "2024-06-20T05:35:58.673799",
     "exception": false,
     "start_time": "2024-06-20T05:35:58.556401",
     "status": "completed"
    },
    "tags": []
   },
   "outputs": [],
   "source": [
    "y_pred=RF.predict(x_test)"
   ]
  },
  {
   "cell_type": "code",
   "execution_count": 13,
   "id": "5fae0172",
   "metadata": {
    "execution": {
     "iopub.execute_input": "2024-06-20T05:35:58.698141Z",
     "iopub.status.busy": "2024-06-20T05:35:58.697780Z",
     "iopub.status.idle": "2024-06-20T05:35:58.736484Z",
     "shell.execute_reply": "2024-06-20T05:35:58.735138Z"
    },
    "papermill": {
     "duration": 0.053368,
     "end_time": "2024-06-20T05:35:58.739065",
     "exception": false,
     "start_time": "2024-06-20T05:35:58.685697",
     "status": "completed"
    },
    "tags": []
   },
   "outputs": [],
   "source": [
    "from sklearn.metrics import accuracy_score,precision_score,recall_score,f1_score,roc_auc_score\n",
    "accuracy = accuracy_score(y_test, y_pred)\n",
    "precision = precision_score(y_test, y_pred)\n",
    "recall = recall_score(y_test, y_pred)\n",
    "f1 = f1_score(y_test, y_pred)\n",
    "roc_auc = roc_auc_score(y_test, y_pred)"
   ]
  },
  {
   "cell_type": "code",
   "execution_count": 14,
   "id": "d3ec159a",
   "metadata": {
    "execution": {
     "iopub.execute_input": "2024-06-20T05:35:58.762340Z",
     "iopub.status.busy": "2024-06-20T05:35:58.761962Z",
     "iopub.status.idle": "2024-06-20T05:35:58.767984Z",
     "shell.execute_reply": "2024-06-20T05:35:58.766709Z"
    },
    "papermill": {
     "duration": 0.02064,
     "end_time": "2024-06-20T05:35:58.770612",
     "exception": false,
     "start_time": "2024-06-20T05:35:58.749972",
     "status": "completed"
    },
    "tags": []
   },
   "outputs": [
    {
     "name": "stdout",
     "output_type": "stream",
     "text": [
      "The Accuracy is = 1.0\n",
      "The Precison is  1.0\n",
      "The Recall is  1.0\n",
      "The F1 score is 1.0\n",
      "The ROC_AUC_Score = 1.0\n"
     ]
    }
   ],
   "source": [
    "print(\"The Accuracy is =\",accuracy)\n",
    "print(\"The Precison is \",precision)\n",
    "print(\"The Recall is \",recall)\n",
    "print(\"The F1 score is\",f1)\n",
    "print(\"The ROC_AUC_Score =\",roc_auc)"
   ]
  },
  {
   "cell_type": "markdown",
   "id": "07b41ea8",
   "metadata": {
    "papermill": {
     "duration": 0.010794,
     "end_time": "2024-06-20T05:35:58.792786",
     "exception": false,
     "start_time": "2024-06-20T05:35:58.781992",
     "status": "completed"
    },
    "tags": []
   },
   "source": [
    "**Lets make validation with the prediction Dataset .I.e the Rows with Missing Judgment values .**"
   ]
  },
  {
   "cell_type": "code",
   "execution_count": 15,
   "id": "25530942",
   "metadata": {
    "execution": {
     "iopub.execute_input": "2024-06-20T05:35:58.816335Z",
     "iopub.status.busy": "2024-06-20T05:35:58.815976Z",
     "iopub.status.idle": "2024-06-20T05:35:58.821189Z",
     "shell.execute_reply": "2024-06-20T05:35:58.819500Z"
    },
    "papermill": {
     "duration": 0.019893,
     "end_time": "2024-06-20T05:35:58.823692",
     "exception": false,
     "start_time": "2024-06-20T05:35:58.803799",
     "status": "completed"
    },
    "tags": []
   },
   "outputs": [],
   "source": [
    "# cols_names_with_nulls = Prediction.columns[Prediction.isnull().any()].tolist()"
   ]
  },
  {
   "cell_type": "markdown",
   "id": "992c6a6b",
   "metadata": {
    "papermill": {
     "duration": 0.010637,
     "end_time": "2024-06-20T05:35:58.845327",
     "exception": false,
     "start_time": "2024-06-20T05:35:58.834690",
     "status": "completed"
    },
    "tags": []
   },
   "source": [
    "Since we Dropped The nulls in training .Lets drop that columns here as well"
   ]
  },
  {
   "cell_type": "code",
   "execution_count": 16,
   "id": "55c2c7ec",
   "metadata": {
    "execution": {
     "iopub.execute_input": "2024-06-20T05:35:58.926955Z",
     "iopub.status.busy": "2024-06-20T05:35:58.926585Z",
     "iopub.status.idle": "2024-06-20T05:35:58.932693Z",
     "shell.execute_reply": "2024-06-20T05:35:58.931418Z"
    },
    "papermill": {
     "duration": 0.021436,
     "end_time": "2024-06-20T05:35:58.935090",
     "exception": false,
     "start_time": "2024-06-20T05:35:58.913654",
     "status": "completed"
    },
    "tags": []
   },
   "outputs": [],
   "source": [
    "Prediction=Prediction.drop(cols_names_with_nulls,axis=1)"
   ]
  },
  {
   "cell_type": "code",
   "execution_count": 17,
   "id": "c8456db5",
   "metadata": {
    "execution": {
     "iopub.execute_input": "2024-06-20T05:35:58.958855Z",
     "iopub.status.busy": "2024-06-20T05:35:58.958505Z",
     "iopub.status.idle": "2024-06-20T05:35:58.963719Z",
     "shell.execute_reply": "2024-06-20T05:35:58.962821Z"
    },
    "papermill": {
     "duration": 0.020344,
     "end_time": "2024-06-20T05:35:58.966481",
     "exception": false,
     "start_time": "2024-06-20T05:35:58.946137",
     "status": "completed"
    },
    "tags": []
   },
   "outputs": [
    {
     "name": "stdout",
     "output_type": "stream",
     "text": [
      "['NEUT#(10^3/uL)', 'LYMPH#(10^3/uL)', 'MONO#(10^3/uL)', 'EO#(10^3/uL)', 'BASO#(10^3/uL)', 'NEUT%(%)', 'LYMPH%(%)', 'MONO%(%)', 'EO%(%)', 'BASO%(%)', 'IG#(10^3/uL)', 'IG%(%)', '[WBC-D(10^3/uL)]', '[TNC-D(10^3/uL)]', '[NEUT#&(10^3/uL)]', '[NEUT%&(%)]', '[LYMP#&(10^3/uL)]', '[LYMP%&(%)]', '[HFLC#(10^3/uL)]', '[HFLC%(%)]', '[BA-D#(10^3/uL)]', '[BA-D%(%)]', '[NE-SSC(ch)]', '[NE-SFL(ch)]', '[NE-FSC(ch)]', '[LY-X(ch)]', '[LY-Y(ch)]', '[LY-Z(ch)]', '[MO-X(ch)]', '[MO-Y(ch)]', '[MO-Z(ch)]', '[NE-WX]', '[NE-WY]', '[NE-WZ]', '[LY-WX]', '[LY-WY]', '[LY-WZ]', '[MO-WX]', '[MO-WY]', '[MO-WZ]']\n"
     ]
    }
   ],
   "source": [
    "print(cols_names_with_nulls)"
   ]
  },
  {
   "cell_type": "code",
   "execution_count": 18,
   "id": "c7ebcc4a",
   "metadata": {
    "execution": {
     "iopub.execute_input": "2024-06-20T05:35:58.990320Z",
     "iopub.status.busy": "2024-06-20T05:35:58.989977Z",
     "iopub.status.idle": "2024-06-20T05:35:58.999192Z",
     "shell.execute_reply": "2024-06-20T05:35:58.998159Z"
    },
    "papermill": {
     "duration": 0.023444,
     "end_time": "2024-06-20T05:35:59.001207",
     "exception": false,
     "start_time": "2024-06-20T05:35:58.977763",
     "status": "completed"
    },
    "tags": []
   },
   "outputs": [
    {
     "data": {
      "text/plain": [
       "Sample Inf.           0\n",
       "Order Type            0\n",
       "Measurement Mode      0\n",
       "Discrete              0\n",
       "Judgment            744\n",
       "Positive(Diff.)       0\n",
       "Positive(Morph.)      0\n",
       "Positive(Count)       0\n",
       "WBC Abnormal          0\n",
       "WBC Suspect           0\n",
       "RBC Abnormal          0\n",
       "PLT Abnormal          0\n",
       "PLT Suspect           0\n",
       "PLT Info.             0\n",
       "Output                0\n",
       "WBC(10^3/uL)          0\n",
       "RBC(10^6/uL)          0\n",
       "HGB(g/dL)             0\n",
       "HCT(%)                0\n",
       "MCV(fL)               0\n",
       "MCH(pg)               0\n",
       "MCHC(g/dL)            0\n",
       "PLT(10^3/uL)          0\n",
       "RDW-SD(fL)            0\n",
       "RDW-CV(%)             0\n",
       "PDW(fL)               0\n",
       "MPV(fL)               0\n",
       "P-LCR(%)              0\n",
       "PCT(%)                0\n",
       "NRBC#(10^3/uL)        0\n",
       "NRBC%(%)              0\n",
       "[PLT-I(10^3/uL)]      0\n",
       "MicroR(%)             0\n",
       "MacroR(%)             0\n",
       "[TNC(10^3/uL)]        0\n",
       "[WBC-N(10^3/uL)]      0\n",
       "[TNC-N(10^3/uL)]      0\n",
       "[BA-N#(10^3/uL)]      0\n",
       "[BA-N%(%)]            0\n",
       "dtype: int64"
      ]
     },
     "execution_count": 18,
     "metadata": {},
     "output_type": "execute_result"
    }
   ],
   "source": [
    "Prediction.isna().sum()"
   ]
  },
  {
   "cell_type": "code",
   "execution_count": 19,
   "id": "6f010959",
   "metadata": {
    "execution": {
     "iopub.execute_input": "2024-06-20T05:35:59.025507Z",
     "iopub.status.busy": "2024-06-20T05:35:59.025119Z",
     "iopub.status.idle": "2024-06-20T05:35:59.031561Z",
     "shell.execute_reply": "2024-06-20T05:35:59.030415Z"
    },
    "papermill": {
     "duration": 0.021495,
     "end_time": "2024-06-20T05:35:59.034053",
     "exception": false,
     "start_time": "2024-06-20T05:35:59.012558",
     "status": "completed"
    },
    "tags": []
   },
   "outputs": [],
   "source": [
    "x_valid=Prediction.drop('Judgment',axis=1)\n",
    "y_valid=Prediction['Judgment']"
   ]
  },
  {
   "cell_type": "code",
   "execution_count": 20,
   "id": "c660f52d",
   "metadata": {
    "execution": {
     "iopub.execute_input": "2024-06-20T05:35:59.061912Z",
     "iopub.status.busy": "2024-06-20T05:35:59.061510Z",
     "iopub.status.idle": "2024-06-20T05:35:59.077758Z",
     "shell.execute_reply": "2024-06-20T05:35:59.076889Z"
    },
    "papermill": {
     "duration": 0.033622,
     "end_time": "2024-06-20T05:35:59.080551",
     "exception": false,
     "start_time": "2024-06-20T05:35:59.046929",
     "status": "completed"
    },
    "tags": []
   },
   "outputs": [],
   "source": [
    "y_valid_pred=RF.predict(x_valid)"
   ]
  },
  {
   "cell_type": "code",
   "execution_count": 21,
   "id": "a36194c6",
   "metadata": {
    "execution": {
     "iopub.execute_input": "2024-06-20T05:35:59.105915Z",
     "iopub.status.busy": "2024-06-20T05:35:59.105530Z",
     "iopub.status.idle": "2024-06-20T05:35:59.112363Z",
     "shell.execute_reply": "2024-06-20T05:35:59.111221Z"
    },
    "papermill": {
     "duration": 0.02202,
     "end_time": "2024-06-20T05:35:59.114564",
     "exception": false,
     "start_time": "2024-06-20T05:35:59.092544",
     "status": "completed"
    },
    "tags": []
   },
   "outputs": [],
   "source": [
    "pgi_data.loc[pgi_data['Judgment'].isna(), 'Judgment'] = y_valid_pred"
   ]
  },
  {
   "cell_type": "code",
   "execution_count": 22,
   "id": "3683a7ef",
   "metadata": {
    "execution": {
     "iopub.execute_input": "2024-06-20T05:35:59.140347Z",
     "iopub.status.busy": "2024-06-20T05:35:59.139996Z",
     "iopub.status.idle": "2024-06-20T05:35:59.144703Z",
     "shell.execute_reply": "2024-06-20T05:35:59.143707Z"
    },
    "papermill": {
     "duration": 0.020405,
     "end_time": "2024-06-20T05:35:59.146420",
     "exception": false,
     "start_time": "2024-06-20T05:35:59.126015",
     "status": "completed"
    },
    "tags": []
   },
   "outputs": [],
   "source": [
    "# y_valid_pred"
   ]
  },
  {
   "cell_type": "code",
   "execution_count": 23,
   "id": "58645a98",
   "metadata": {
    "execution": {
     "iopub.execute_input": "2024-06-20T05:35:59.170223Z",
     "iopub.status.busy": "2024-06-20T05:35:59.169867Z",
     "iopub.status.idle": "2024-06-20T05:35:59.202719Z",
     "shell.execute_reply": "2024-06-20T05:35:59.201172Z"
    },
    "papermill": {
     "duration": 0.047655,
     "end_time": "2024-06-20T05:35:59.205437",
     "exception": false,
     "start_time": "2024-06-20T05:35:59.157782",
     "status": "completed"
    },
    "tags": []
   },
   "outputs": [
    {
     "data": {
      "text/html": [
       "<div>\n",
       "<style scoped>\n",
       "    .dataframe tbody tr th:only-of-type {\n",
       "        vertical-align: middle;\n",
       "    }\n",
       "\n",
       "    .dataframe tbody tr th {\n",
       "        vertical-align: top;\n",
       "    }\n",
       "\n",
       "    .dataframe thead th {\n",
       "        text-align: right;\n",
       "    }\n",
       "</style>\n",
       "<table border=\"1\" class=\"dataframe\">\n",
       "  <thead>\n",
       "    <tr style=\"text-align: right;\">\n",
       "      <th></th>\n",
       "      <th>Sample Inf.</th>\n",
       "      <th>Order Type</th>\n",
       "      <th>Measurement Mode</th>\n",
       "      <th>Discrete</th>\n",
       "      <th>Judgment</th>\n",
       "      <th>Positive(Diff.)</th>\n",
       "      <th>Positive(Morph.)</th>\n",
       "      <th>Positive(Count)</th>\n",
       "      <th>WBC Abnormal</th>\n",
       "      <th>WBC Suspect</th>\n",
       "      <th>...</th>\n",
       "      <th>[MO-Z(ch)]</th>\n",
       "      <th>[NE-WX]</th>\n",
       "      <th>[NE-WY]</th>\n",
       "      <th>[NE-WZ]</th>\n",
       "      <th>[LY-WX]</th>\n",
       "      <th>[LY-WY]</th>\n",
       "      <th>[LY-WZ]</th>\n",
       "      <th>[MO-WX]</th>\n",
       "      <th>[MO-WY]</th>\n",
       "      <th>[MO-WZ]</th>\n",
       "    </tr>\n",
       "  </thead>\n",
       "  <tbody>\n",
       "    <tr>\n",
       "      <th>0</th>\n",
       "      <td>1</td>\n",
       "      <td>0</td>\n",
       "      <td>2</td>\n",
       "      <td>4</td>\n",
       "      <td>0.0</td>\n",
       "      <td>0</td>\n",
       "      <td>0</td>\n",
       "      <td>0</td>\n",
       "      <td>0.0</td>\n",
       "      <td>0.0</td>\n",
       "      <td>...</td>\n",
       "      <td>95.6</td>\n",
       "      <td>357.0</td>\n",
       "      <td>580.0</td>\n",
       "      <td>657.0</td>\n",
       "      <td>772.0</td>\n",
       "      <td>602.0</td>\n",
       "      <td>706.0</td>\n",
       "      <td>368.0</td>\n",
       "      <td>837.0</td>\n",
       "      <td>743.0</td>\n",
       "    </tr>\n",
       "    <tr>\n",
       "      <th>1</th>\n",
       "      <td>1</td>\n",
       "      <td>0</td>\n",
       "      <td>2</td>\n",
       "      <td>3</td>\n",
       "      <td>0.0</td>\n",
       "      <td>0</td>\n",
       "      <td>0</td>\n",
       "      <td>0</td>\n",
       "      <td>0.0</td>\n",
       "      <td>0.0</td>\n",
       "      <td>...</td>\n",
       "      <td>104.3</td>\n",
       "      <td>332.0</td>\n",
       "      <td>725.0</td>\n",
       "      <td>759.0</td>\n",
       "      <td>725.0</td>\n",
       "      <td>940.0</td>\n",
       "      <td>741.0</td>\n",
       "      <td>366.0</td>\n",
       "      <td>913.0</td>\n",
       "      <td>786.0</td>\n",
       "    </tr>\n",
       "    <tr>\n",
       "      <th>2</th>\n",
       "      <td>1</td>\n",
       "      <td>0</td>\n",
       "      <td>2</td>\n",
       "      <td>3</td>\n",
       "      <td>0.0</td>\n",
       "      <td>0</td>\n",
       "      <td>0</td>\n",
       "      <td>0</td>\n",
       "      <td>0.0</td>\n",
       "      <td>0.0</td>\n",
       "      <td>...</td>\n",
       "      <td>99.0</td>\n",
       "      <td>349.0</td>\n",
       "      <td>708.0</td>\n",
       "      <td>727.0</td>\n",
       "      <td>735.0</td>\n",
       "      <td>756.0</td>\n",
       "      <td>697.0</td>\n",
       "      <td>316.0</td>\n",
       "      <td>762.0</td>\n",
       "      <td>767.0</td>\n",
       "    </tr>\n",
       "    <tr>\n",
       "      <th>3</th>\n",
       "      <td>1</td>\n",
       "      <td>0</td>\n",
       "      <td>2</td>\n",
       "      <td>4</td>\n",
       "      <td>0.0</td>\n",
       "      <td>0</td>\n",
       "      <td>0</td>\n",
       "      <td>0</td>\n",
       "      <td>0.0</td>\n",
       "      <td>0.0</td>\n",
       "      <td>...</td>\n",
       "      <td>100.1</td>\n",
       "      <td>365.0</td>\n",
       "      <td>667.0</td>\n",
       "      <td>712.0</td>\n",
       "      <td>754.0</td>\n",
       "      <td>708.0</td>\n",
       "      <td>653.0</td>\n",
       "      <td>368.0</td>\n",
       "      <td>753.0</td>\n",
       "      <td>709.0</td>\n",
       "    </tr>\n",
       "    <tr>\n",
       "      <th>4</th>\n",
       "      <td>1</td>\n",
       "      <td>0</td>\n",
       "      <td>2</td>\n",
       "      <td>3</td>\n",
       "      <td>0.0</td>\n",
       "      <td>0</td>\n",
       "      <td>0</td>\n",
       "      <td>0</td>\n",
       "      <td>0.0</td>\n",
       "      <td>0.0</td>\n",
       "      <td>...</td>\n",
       "      <td>100.6</td>\n",
       "      <td>318.0</td>\n",
       "      <td>622.0</td>\n",
       "      <td>795.0</td>\n",
       "      <td>771.0</td>\n",
       "      <td>718.0</td>\n",
       "      <td>738.0</td>\n",
       "      <td>374.0</td>\n",
       "      <td>796.0</td>\n",
       "      <td>686.0</td>\n",
       "    </tr>\n",
       "    <tr>\n",
       "      <th>...</th>\n",
       "      <td>...</td>\n",
       "      <td>...</td>\n",
       "      <td>...</td>\n",
       "      <td>...</td>\n",
       "      <td>...</td>\n",
       "      <td>...</td>\n",
       "      <td>...</td>\n",
       "      <td>...</td>\n",
       "      <td>...</td>\n",
       "      <td>...</td>\n",
       "      <td>...</td>\n",
       "      <td>...</td>\n",
       "      <td>...</td>\n",
       "      <td>...</td>\n",
       "      <td>...</td>\n",
       "      <td>...</td>\n",
       "      <td>...</td>\n",
       "      <td>...</td>\n",
       "      <td>...</td>\n",
       "      <td>...</td>\n",
       "      <td>...</td>\n",
       "    </tr>\n",
       "    <tr>\n",
       "      <th>82149</th>\n",
       "      <td>1</td>\n",
       "      <td>0</td>\n",
       "      <td>2</td>\n",
       "      <td>1</td>\n",
       "      <td>1.0</td>\n",
       "      <td>0</td>\n",
       "      <td>1</td>\n",
       "      <td>0</td>\n",
       "      <td>0.0</td>\n",
       "      <td>0.0</td>\n",
       "      <td>...</td>\n",
       "      <td>60.8</td>\n",
       "      <td>297.0</td>\n",
       "      <td>566.0</td>\n",
       "      <td>679.0</td>\n",
       "      <td>446.0</td>\n",
       "      <td>884.0</td>\n",
       "      <td>569.0</td>\n",
       "      <td>248.0</td>\n",
       "      <td>637.0</td>\n",
       "      <td>641.0</td>\n",
       "    </tr>\n",
       "    <tr>\n",
       "      <th>82150</th>\n",
       "      <td>1</td>\n",
       "      <td>0</td>\n",
       "      <td>2</td>\n",
       "      <td>1</td>\n",
       "      <td>1.0</td>\n",
       "      <td>0</td>\n",
       "      <td>1</td>\n",
       "      <td>1</td>\n",
       "      <td>1.0</td>\n",
       "      <td>0.0</td>\n",
       "      <td>...</td>\n",
       "      <td>64.6</td>\n",
       "      <td>330.0</td>\n",
       "      <td>617.0</td>\n",
       "      <td>736.0</td>\n",
       "      <td>635.0</td>\n",
       "      <td>1163.0</td>\n",
       "      <td>603.0</td>\n",
       "      <td>238.0</td>\n",
       "      <td>669.0</td>\n",
       "      <td>573.0</td>\n",
       "    </tr>\n",
       "    <tr>\n",
       "      <th>82151</th>\n",
       "      <td>1</td>\n",
       "      <td>0</td>\n",
       "      <td>2</td>\n",
       "      <td>1</td>\n",
       "      <td>1.0</td>\n",
       "      <td>1</td>\n",
       "      <td>0</td>\n",
       "      <td>1</td>\n",
       "      <td>1.0</td>\n",
       "      <td>0.0</td>\n",
       "      <td>...</td>\n",
       "      <td>72.1</td>\n",
       "      <td>395.0</td>\n",
       "      <td>711.0</td>\n",
       "      <td>636.0</td>\n",
       "      <td>594.0</td>\n",
       "      <td>631.0</td>\n",
       "      <td>450.0</td>\n",
       "      <td>183.0</td>\n",
       "      <td>60.0</td>\n",
       "      <td>291.0</td>\n",
       "    </tr>\n",
       "    <tr>\n",
       "      <th>82152</th>\n",
       "      <td>1</td>\n",
       "      <td>0</td>\n",
       "      <td>2</td>\n",
       "      <td>1</td>\n",
       "      <td>1.0</td>\n",
       "      <td>0</td>\n",
       "      <td>1</td>\n",
       "      <td>1</td>\n",
       "      <td>1.0</td>\n",
       "      <td>1.0</td>\n",
       "      <td>...</td>\n",
       "      <td>63.5</td>\n",
       "      <td>319.0</td>\n",
       "      <td>740.0</td>\n",
       "      <td>734.0</td>\n",
       "      <td>1111.0</td>\n",
       "      <td>1591.0</td>\n",
       "      <td>720.0</td>\n",
       "      <td>271.0</td>\n",
       "      <td>651.0</td>\n",
       "      <td>552.0</td>\n",
       "    </tr>\n",
       "    <tr>\n",
       "      <th>82153</th>\n",
       "      <td>1</td>\n",
       "      <td>0</td>\n",
       "      <td>2</td>\n",
       "      <td>1</td>\n",
       "      <td>1.0</td>\n",
       "      <td>0</td>\n",
       "      <td>1</td>\n",
       "      <td>1</td>\n",
       "      <td>0.0</td>\n",
       "      <td>1.0</td>\n",
       "      <td>...</td>\n",
       "      <td>64.8</td>\n",
       "      <td>309.0</td>\n",
       "      <td>690.0</td>\n",
       "      <td>651.0</td>\n",
       "      <td>647.0</td>\n",
       "      <td>1196.0</td>\n",
       "      <td>622.0</td>\n",
       "      <td>224.0</td>\n",
       "      <td>782.0</td>\n",
       "      <td>525.0</td>\n",
       "    </tr>\n",
       "  </tbody>\n",
       "</table>\n",
       "<p>79741 rows × 79 columns</p>\n",
       "</div>"
      ],
      "text/plain": [
       "       Sample Inf.  Order Type  Measurement Mode  Discrete  Judgment  \\\n",
       "0                1           0                 2         4       0.0   \n",
       "1                1           0                 2         3       0.0   \n",
       "2                1           0                 2         3       0.0   \n",
       "3                1           0                 2         4       0.0   \n",
       "4                1           0                 2         3       0.0   \n",
       "...            ...         ...               ...       ...       ...   \n",
       "82149            1           0                 2         1       1.0   \n",
       "82150            1           0                 2         1       1.0   \n",
       "82151            1           0                 2         1       1.0   \n",
       "82152            1           0                 2         1       1.0   \n",
       "82153            1           0                 2         1       1.0   \n",
       "\n",
       "       Positive(Diff.)  Positive(Morph.)  Positive(Count)  WBC Abnormal  \\\n",
       "0                    0                 0                0           0.0   \n",
       "1                    0                 0                0           0.0   \n",
       "2                    0                 0                0           0.0   \n",
       "3                    0                 0                0           0.0   \n",
       "4                    0                 0                0           0.0   \n",
       "...                ...               ...              ...           ...   \n",
       "82149                0                 1                0           0.0   \n",
       "82150                0                 1                1           1.0   \n",
       "82151                1                 0                1           1.0   \n",
       "82152                0                 1                1           1.0   \n",
       "82153                0                 1                1           0.0   \n",
       "\n",
       "       WBC Suspect  ...  [MO-Z(ch)]  [NE-WX]  [NE-WY]  [NE-WZ]  [LY-WX]  \\\n",
       "0              0.0  ...        95.6    357.0    580.0    657.0    772.0   \n",
       "1              0.0  ...       104.3    332.0    725.0    759.0    725.0   \n",
       "2              0.0  ...        99.0    349.0    708.0    727.0    735.0   \n",
       "3              0.0  ...       100.1    365.0    667.0    712.0    754.0   \n",
       "4              0.0  ...       100.6    318.0    622.0    795.0    771.0   \n",
       "...            ...  ...         ...      ...      ...      ...      ...   \n",
       "82149          0.0  ...        60.8    297.0    566.0    679.0    446.0   \n",
       "82150          0.0  ...        64.6    330.0    617.0    736.0    635.0   \n",
       "82151          0.0  ...        72.1    395.0    711.0    636.0    594.0   \n",
       "82152          1.0  ...        63.5    319.0    740.0    734.0   1111.0   \n",
       "82153          1.0  ...        64.8    309.0    690.0    651.0    647.0   \n",
       "\n",
       "       [LY-WY]  [LY-WZ]  [MO-WX]  [MO-WY]  [MO-WZ]  \n",
       "0        602.0    706.0    368.0    837.0    743.0  \n",
       "1        940.0    741.0    366.0    913.0    786.0  \n",
       "2        756.0    697.0    316.0    762.0    767.0  \n",
       "3        708.0    653.0    368.0    753.0    709.0  \n",
       "4        718.0    738.0    374.0    796.0    686.0  \n",
       "...        ...      ...      ...      ...      ...  \n",
       "82149    884.0    569.0    248.0    637.0    641.0  \n",
       "82150   1163.0    603.0    238.0    669.0    573.0  \n",
       "82151    631.0    450.0    183.0     60.0    291.0  \n",
       "82152   1591.0    720.0    271.0    651.0    552.0  \n",
       "82153   1196.0    622.0    224.0    782.0    525.0  \n",
       "\n",
       "[79741 rows x 79 columns]"
      ]
     },
     "execution_count": 23,
     "metadata": {},
     "output_type": "execute_result"
    }
   ],
   "source": [
    "pgi_data"
   ]
  },
  {
   "cell_type": "code",
   "execution_count": 24,
   "id": "069e9538",
   "metadata": {
    "execution": {
     "iopub.execute_input": "2024-06-20T05:35:59.231279Z",
     "iopub.status.busy": "2024-06-20T05:35:59.230836Z",
     "iopub.status.idle": "2024-06-20T05:35:59.247416Z",
     "shell.execute_reply": "2024-06-20T05:35:59.246231Z"
    },
    "papermill": {
     "duration": 0.032733,
     "end_time": "2024-06-20T05:35:59.250334",
     "exception": false,
     "start_time": "2024-06-20T05:35:59.217601",
     "status": "completed"
    },
    "tags": []
   },
   "outputs": [
    {
     "data": {
      "text/plain": [
       "Sample Inf.           0\n",
       "Order Type            0\n",
       "Measurement Mode      0\n",
       "Discrete              0\n",
       "Judgment              0\n",
       "                   ... \n",
       "[LY-WY]             501\n",
       "[LY-WZ]             501\n",
       "[MO-WX]             501\n",
       "[MO-WY]             501\n",
       "[MO-WZ]             501\n",
       "Length: 79, dtype: int64"
      ]
     },
     "execution_count": 24,
     "metadata": {},
     "output_type": "execute_result"
    }
   ],
   "source": [
    "pgi_data.isna().sum()"
   ]
  },
  {
   "cell_type": "markdown",
   "id": "1d9ed9d8",
   "metadata": {
    "papermill": {
     "duration": 0.014225,
     "end_time": "2024-06-20T05:35:59.280431",
     "exception": false,
     "start_time": "2024-06-20T05:35:59.266206",
     "status": "completed"
    },
    "tags": []
   },
   "source": [
    "So The Judgment is a Categorical Column and we filled with the accurate predictions made by our Random Forest with 100 Trees"
   ]
  },
  {
   "cell_type": "markdown",
   "id": "bc9c10b5",
   "metadata": {
    "papermill": {
     "duration": 0.013138,
     "end_time": "2024-06-20T05:35:59.306251",
     "exception": false,
     "start_time": "2024-06-20T05:35:59.293113",
     "status": "completed"
    },
    "tags": []
   },
   "source": [
    "# Predicting Continous missing val cols using Linear Regression"
   ]
  },
  {
   "cell_type": "code",
   "execution_count": 25,
   "id": "1e1034a2",
   "metadata": {
    "execution": {
     "iopub.execute_input": "2024-06-20T05:35:59.332566Z",
     "iopub.status.busy": "2024-06-20T05:35:59.332219Z",
     "iopub.status.idle": "2024-06-20T05:36:02.610136Z",
     "shell.execute_reply": "2024-06-20T05:36:02.609396Z"
    },
    "papermill": {
     "duration": 3.293819,
     "end_time": "2024-06-20T05:36:02.612236",
     "exception": false,
     "start_time": "2024-06-20T05:35:59.318417",
     "status": "completed"
    },
    "tags": []
   },
   "outputs": [],
   "source": [
    "pgi_data.to_csv('pgi_data_doctor_suggested_predictions_1.csv')"
   ]
  },
  {
   "cell_type": "code",
   "execution_count": 26,
   "id": "97c8185b",
   "metadata": {
    "execution": {
     "iopub.execute_input": "2024-06-20T05:36:02.637119Z",
     "iopub.status.busy": "2024-06-20T05:36:02.636761Z",
     "iopub.status.idle": "2024-06-20T05:36:03.401644Z",
     "shell.execute_reply": "2024-06-20T05:36:03.400436Z"
    },
    "papermill": {
     "duration": 0.780204,
     "end_time": "2024-06-20T05:36:03.404321",
     "exception": false,
     "start_time": "2024-06-20T05:36:02.624117",
     "status": "completed"
    },
    "tags": []
   },
   "outputs": [
    {
     "data": {
      "text/html": [
       "<div>\n",
       "<style scoped>\n",
       "    .dataframe tbody tr th:only-of-type {\n",
       "        vertical-align: middle;\n",
       "    }\n",
       "\n",
       "    .dataframe tbody tr th {\n",
       "        vertical-align: top;\n",
       "    }\n",
       "\n",
       "    .dataframe thead th {\n",
       "        text-align: right;\n",
       "    }\n",
       "</style>\n",
       "<table border=\"1\" class=\"dataframe\">\n",
       "  <thead>\n",
       "    <tr style=\"text-align: right;\">\n",
       "      <th></th>\n",
       "      <th>Sample Inf.</th>\n",
       "      <th>Order Type</th>\n",
       "      <th>Measurement Mode</th>\n",
       "      <th>Discrete</th>\n",
       "      <th>Judgment</th>\n",
       "      <th>Positive(Diff.)</th>\n",
       "      <th>Positive(Morph.)</th>\n",
       "      <th>Positive(Count)</th>\n",
       "      <th>WBC Abnormal</th>\n",
       "      <th>WBC Suspect</th>\n",
       "      <th>...</th>\n",
       "      <th>[MO-Z(ch)]</th>\n",
       "      <th>[NE-WX]</th>\n",
       "      <th>[NE-WY]</th>\n",
       "      <th>[NE-WZ]</th>\n",
       "      <th>[LY-WX]</th>\n",
       "      <th>[LY-WY]</th>\n",
       "      <th>[LY-WZ]</th>\n",
       "      <th>[MO-WX]</th>\n",
       "      <th>[MO-WY]</th>\n",
       "      <th>[MO-WZ]</th>\n",
       "    </tr>\n",
       "  </thead>\n",
       "  <tbody>\n",
       "    <tr>\n",
       "      <th>0</th>\n",
       "      <td>1</td>\n",
       "      <td>0</td>\n",
       "      <td>2</td>\n",
       "      <td>4</td>\n",
       "      <td>0.0</td>\n",
       "      <td>0</td>\n",
       "      <td>0</td>\n",
       "      <td>0</td>\n",
       "      <td>0.0</td>\n",
       "      <td>0.0</td>\n",
       "      <td>...</td>\n",
       "      <td>95.6</td>\n",
       "      <td>357.0</td>\n",
       "      <td>580.0</td>\n",
       "      <td>657.0</td>\n",
       "      <td>772.0</td>\n",
       "      <td>602.0</td>\n",
       "      <td>706.0</td>\n",
       "      <td>368.0</td>\n",
       "      <td>837.0</td>\n",
       "      <td>743.0</td>\n",
       "    </tr>\n",
       "    <tr>\n",
       "      <th>1</th>\n",
       "      <td>1</td>\n",
       "      <td>0</td>\n",
       "      <td>2</td>\n",
       "      <td>3</td>\n",
       "      <td>0.0</td>\n",
       "      <td>0</td>\n",
       "      <td>0</td>\n",
       "      <td>0</td>\n",
       "      <td>0.0</td>\n",
       "      <td>0.0</td>\n",
       "      <td>...</td>\n",
       "      <td>104.3</td>\n",
       "      <td>332.0</td>\n",
       "      <td>725.0</td>\n",
       "      <td>759.0</td>\n",
       "      <td>725.0</td>\n",
       "      <td>940.0</td>\n",
       "      <td>741.0</td>\n",
       "      <td>366.0</td>\n",
       "      <td>913.0</td>\n",
       "      <td>786.0</td>\n",
       "    </tr>\n",
       "    <tr>\n",
       "      <th>2</th>\n",
       "      <td>1</td>\n",
       "      <td>0</td>\n",
       "      <td>2</td>\n",
       "      <td>3</td>\n",
       "      <td>0.0</td>\n",
       "      <td>0</td>\n",
       "      <td>0</td>\n",
       "      <td>0</td>\n",
       "      <td>0.0</td>\n",
       "      <td>0.0</td>\n",
       "      <td>...</td>\n",
       "      <td>99.0</td>\n",
       "      <td>349.0</td>\n",
       "      <td>708.0</td>\n",
       "      <td>727.0</td>\n",
       "      <td>735.0</td>\n",
       "      <td>756.0</td>\n",
       "      <td>697.0</td>\n",
       "      <td>316.0</td>\n",
       "      <td>762.0</td>\n",
       "      <td>767.0</td>\n",
       "    </tr>\n",
       "    <tr>\n",
       "      <th>3</th>\n",
       "      <td>1</td>\n",
       "      <td>0</td>\n",
       "      <td>2</td>\n",
       "      <td>4</td>\n",
       "      <td>0.0</td>\n",
       "      <td>0</td>\n",
       "      <td>0</td>\n",
       "      <td>0</td>\n",
       "      <td>0.0</td>\n",
       "      <td>0.0</td>\n",
       "      <td>...</td>\n",
       "      <td>100.1</td>\n",
       "      <td>365.0</td>\n",
       "      <td>667.0</td>\n",
       "      <td>712.0</td>\n",
       "      <td>754.0</td>\n",
       "      <td>708.0</td>\n",
       "      <td>653.0</td>\n",
       "      <td>368.0</td>\n",
       "      <td>753.0</td>\n",
       "      <td>709.0</td>\n",
       "    </tr>\n",
       "    <tr>\n",
       "      <th>4</th>\n",
       "      <td>1</td>\n",
       "      <td>0</td>\n",
       "      <td>2</td>\n",
       "      <td>3</td>\n",
       "      <td>0.0</td>\n",
       "      <td>0</td>\n",
       "      <td>0</td>\n",
       "      <td>0</td>\n",
       "      <td>0.0</td>\n",
       "      <td>0.0</td>\n",
       "      <td>...</td>\n",
       "      <td>100.6</td>\n",
       "      <td>318.0</td>\n",
       "      <td>622.0</td>\n",
       "      <td>795.0</td>\n",
       "      <td>771.0</td>\n",
       "      <td>718.0</td>\n",
       "      <td>738.0</td>\n",
       "      <td>374.0</td>\n",
       "      <td>796.0</td>\n",
       "      <td>686.0</td>\n",
       "    </tr>\n",
       "    <tr>\n",
       "      <th>...</th>\n",
       "      <td>...</td>\n",
       "      <td>...</td>\n",
       "      <td>...</td>\n",
       "      <td>...</td>\n",
       "      <td>...</td>\n",
       "      <td>...</td>\n",
       "      <td>...</td>\n",
       "      <td>...</td>\n",
       "      <td>...</td>\n",
       "      <td>...</td>\n",
       "      <td>...</td>\n",
       "      <td>...</td>\n",
       "      <td>...</td>\n",
       "      <td>...</td>\n",
       "      <td>...</td>\n",
       "      <td>...</td>\n",
       "      <td>...</td>\n",
       "      <td>...</td>\n",
       "      <td>...</td>\n",
       "      <td>...</td>\n",
       "      <td>...</td>\n",
       "    </tr>\n",
       "    <tr>\n",
       "      <th>82149</th>\n",
       "      <td>1</td>\n",
       "      <td>0</td>\n",
       "      <td>2</td>\n",
       "      <td>1</td>\n",
       "      <td>1.0</td>\n",
       "      <td>0</td>\n",
       "      <td>1</td>\n",
       "      <td>0</td>\n",
       "      <td>0.0</td>\n",
       "      <td>0.0</td>\n",
       "      <td>...</td>\n",
       "      <td>60.8</td>\n",
       "      <td>297.0</td>\n",
       "      <td>566.0</td>\n",
       "      <td>679.0</td>\n",
       "      <td>446.0</td>\n",
       "      <td>884.0</td>\n",
       "      <td>569.0</td>\n",
       "      <td>248.0</td>\n",
       "      <td>637.0</td>\n",
       "      <td>641.0</td>\n",
       "    </tr>\n",
       "    <tr>\n",
       "      <th>82150</th>\n",
       "      <td>1</td>\n",
       "      <td>0</td>\n",
       "      <td>2</td>\n",
       "      <td>1</td>\n",
       "      <td>1.0</td>\n",
       "      <td>0</td>\n",
       "      <td>1</td>\n",
       "      <td>1</td>\n",
       "      <td>1.0</td>\n",
       "      <td>0.0</td>\n",
       "      <td>...</td>\n",
       "      <td>64.6</td>\n",
       "      <td>330.0</td>\n",
       "      <td>617.0</td>\n",
       "      <td>736.0</td>\n",
       "      <td>635.0</td>\n",
       "      <td>1163.0</td>\n",
       "      <td>603.0</td>\n",
       "      <td>238.0</td>\n",
       "      <td>669.0</td>\n",
       "      <td>573.0</td>\n",
       "    </tr>\n",
       "    <tr>\n",
       "      <th>82151</th>\n",
       "      <td>1</td>\n",
       "      <td>0</td>\n",
       "      <td>2</td>\n",
       "      <td>1</td>\n",
       "      <td>1.0</td>\n",
       "      <td>1</td>\n",
       "      <td>0</td>\n",
       "      <td>1</td>\n",
       "      <td>1.0</td>\n",
       "      <td>0.0</td>\n",
       "      <td>...</td>\n",
       "      <td>72.1</td>\n",
       "      <td>395.0</td>\n",
       "      <td>711.0</td>\n",
       "      <td>636.0</td>\n",
       "      <td>594.0</td>\n",
       "      <td>631.0</td>\n",
       "      <td>450.0</td>\n",
       "      <td>183.0</td>\n",
       "      <td>60.0</td>\n",
       "      <td>291.0</td>\n",
       "    </tr>\n",
       "    <tr>\n",
       "      <th>82152</th>\n",
       "      <td>1</td>\n",
       "      <td>0</td>\n",
       "      <td>2</td>\n",
       "      <td>1</td>\n",
       "      <td>1.0</td>\n",
       "      <td>0</td>\n",
       "      <td>1</td>\n",
       "      <td>1</td>\n",
       "      <td>1.0</td>\n",
       "      <td>1.0</td>\n",
       "      <td>...</td>\n",
       "      <td>63.5</td>\n",
       "      <td>319.0</td>\n",
       "      <td>740.0</td>\n",
       "      <td>734.0</td>\n",
       "      <td>1111.0</td>\n",
       "      <td>1591.0</td>\n",
       "      <td>720.0</td>\n",
       "      <td>271.0</td>\n",
       "      <td>651.0</td>\n",
       "      <td>552.0</td>\n",
       "    </tr>\n",
       "    <tr>\n",
       "      <th>82153</th>\n",
       "      <td>1</td>\n",
       "      <td>0</td>\n",
       "      <td>2</td>\n",
       "      <td>1</td>\n",
       "      <td>1.0</td>\n",
       "      <td>0</td>\n",
       "      <td>1</td>\n",
       "      <td>1</td>\n",
       "      <td>0.0</td>\n",
       "      <td>1.0</td>\n",
       "      <td>...</td>\n",
       "      <td>64.8</td>\n",
       "      <td>309.0</td>\n",
       "      <td>690.0</td>\n",
       "      <td>651.0</td>\n",
       "      <td>647.0</td>\n",
       "      <td>1196.0</td>\n",
       "      <td>622.0</td>\n",
       "      <td>224.0</td>\n",
       "      <td>782.0</td>\n",
       "      <td>525.0</td>\n",
       "    </tr>\n",
       "  </tbody>\n",
       "</table>\n",
       "<p>79741 rows × 79 columns</p>\n",
       "</div>"
      ],
      "text/plain": [
       "       Sample Inf.  Order Type  Measurement Mode  Discrete  Judgment  \\\n",
       "0                1           0                 2         4       0.0   \n",
       "1                1           0                 2         3       0.0   \n",
       "2                1           0                 2         3       0.0   \n",
       "3                1           0                 2         4       0.0   \n",
       "4                1           0                 2         3       0.0   \n",
       "...            ...         ...               ...       ...       ...   \n",
       "82149            1           0                 2         1       1.0   \n",
       "82150            1           0                 2         1       1.0   \n",
       "82151            1           0                 2         1       1.0   \n",
       "82152            1           0                 2         1       1.0   \n",
       "82153            1           0                 2         1       1.0   \n",
       "\n",
       "       Positive(Diff.)  Positive(Morph.)  Positive(Count)  WBC Abnormal  \\\n",
       "0                    0                 0                0           0.0   \n",
       "1                    0                 0                0           0.0   \n",
       "2                    0                 0                0           0.0   \n",
       "3                    0                 0                0           0.0   \n",
       "4                    0                 0                0           0.0   \n",
       "...                ...               ...              ...           ...   \n",
       "82149                0                 1                0           0.0   \n",
       "82150                0                 1                1           1.0   \n",
       "82151                1                 0                1           1.0   \n",
       "82152                0                 1                1           1.0   \n",
       "82153                0                 1                1           0.0   \n",
       "\n",
       "       WBC Suspect  ...  [MO-Z(ch)]  [NE-WX]  [NE-WY]  [NE-WZ]  [LY-WX]  \\\n",
       "0              0.0  ...        95.6    357.0    580.0    657.0    772.0   \n",
       "1              0.0  ...       104.3    332.0    725.0    759.0    725.0   \n",
       "2              0.0  ...        99.0    349.0    708.0    727.0    735.0   \n",
       "3              0.0  ...       100.1    365.0    667.0    712.0    754.0   \n",
       "4              0.0  ...       100.6    318.0    622.0    795.0    771.0   \n",
       "...            ...  ...         ...      ...      ...      ...      ...   \n",
       "82149          0.0  ...        60.8    297.0    566.0    679.0    446.0   \n",
       "82150          0.0  ...        64.6    330.0    617.0    736.0    635.0   \n",
       "82151          0.0  ...        72.1    395.0    711.0    636.0    594.0   \n",
       "82152          1.0  ...        63.5    319.0    740.0    734.0   1111.0   \n",
       "82153          1.0  ...        64.8    309.0    690.0    651.0    647.0   \n",
       "\n",
       "       [LY-WY]  [LY-WZ]  [MO-WX]  [MO-WY]  [MO-WZ]  \n",
       "0        602.0    706.0    368.0    837.0    743.0  \n",
       "1        940.0    741.0    366.0    913.0    786.0  \n",
       "2        756.0    697.0    316.0    762.0    767.0  \n",
       "3        708.0    653.0    368.0    753.0    709.0  \n",
       "4        718.0    738.0    374.0    796.0    686.0  \n",
       "...        ...      ...      ...      ...      ...  \n",
       "82149    884.0    569.0    248.0    637.0    641.0  \n",
       "82150   1163.0    603.0    238.0    669.0    573.0  \n",
       "82151    631.0    450.0    183.0     60.0    291.0  \n",
       "82152   1591.0    720.0    271.0    651.0    552.0  \n",
       "82153   1196.0    622.0    224.0    782.0    525.0  \n",
       "\n",
       "[79741 rows x 79 columns]"
      ]
     },
     "execution_count": 26,
     "metadata": {},
     "output_type": "execute_result"
    }
   ],
   "source": [
    "pgi_data=pd.read_csv('/kaggle/working/pgi_data_doctor_suggested_predictions_1.csv',low_memory=False,index_col=0)\n",
    "pgi_data"
   ]
  },
  {
   "cell_type": "code",
   "execution_count": 27,
   "id": "f58455bd",
   "metadata": {
    "execution": {
     "iopub.execute_input": "2024-06-20T05:36:03.432518Z",
     "iopub.status.busy": "2024-06-20T05:36:03.431557Z",
     "iopub.status.idle": "2024-06-20T05:36:03.442326Z",
     "shell.execute_reply": "2024-06-20T05:36:03.441475Z"
    },
    "papermill": {
     "duration": 0.026532,
     "end_time": "2024-06-20T05:36:03.444406",
     "exception": false,
     "start_time": "2024-06-20T05:36:03.417874",
     "status": "completed"
    },
    "tags": []
   },
   "outputs": [],
   "source": [
    "x=pgi_data.isna().sum()\n",
    "lft=x.tolist()\n",
    "ls=[]\n",
    "for i in range(len(lft)):\n",
    "    if(lft[i]>0):\n",
    "        ls.append(lft[i])"
   ]
  },
  {
   "cell_type": "code",
   "execution_count": 28,
   "id": "202fc2ce",
   "metadata": {
    "execution": {
     "iopub.execute_input": "2024-06-20T05:36:03.471622Z",
     "iopub.status.busy": "2024-06-20T05:36:03.471229Z",
     "iopub.status.idle": "2024-06-20T05:36:03.480007Z",
     "shell.execute_reply": "2024-06-20T05:36:03.477425Z"
    },
    "papermill": {
     "duration": 0.026648,
     "end_time": "2024-06-20T05:36:03.483387",
     "exception": false,
     "start_time": "2024-06-20T05:36:03.456739",
     "status": "completed"
    },
    "tags": []
   },
   "outputs": [
    {
     "name": "stdout",
     "output_type": "stream",
     "text": [
      "[501, 501, 501, 501, 501, 501, 501, 501, 501, 501, 501, 501, 501, 501, 501, 501, 501, 501, 501, 501, 501, 501, 501, 501, 501, 501, 501, 501, 501, 501, 501, 501, 501, 501, 501, 501, 501, 501, 501, 501]\n"
     ]
    }
   ],
   "source": [
    "print(ls)"
   ]
  },
  {
   "cell_type": "markdown",
   "id": "4c380839",
   "metadata": {
    "papermill": {
     "duration": 0.014877,
     "end_time": "2024-06-20T05:36:03.514302",
     "exception": false,
     "start_time": "2024-06-20T05:36:03.499425",
     "status": "completed"
    },
    "tags": []
   },
   "source": [
    "Now Let's Impute the Continous missing value cols"
   ]
  },
  {
   "cell_type": "code",
   "execution_count": 29,
   "id": "a3db049c",
   "metadata": {
    "execution": {
     "iopub.execute_input": "2024-06-20T05:36:03.546014Z",
     "iopub.status.busy": "2024-06-20T05:36:03.545651Z",
     "iopub.status.idle": "2024-06-20T05:36:03.554858Z",
     "shell.execute_reply": "2024-06-20T05:36:03.552697Z"
    },
    "papermill": {
     "duration": 0.031772,
     "end_time": "2024-06-20T05:36:03.559873",
     "exception": false,
     "start_time": "2024-06-20T05:36:03.528101",
     "status": "completed"
    },
    "tags": []
   },
   "outputs": [
    {
     "name": "stdout",
     "output_type": "stream",
     "text": [
      "['NEUT#(10^3/uL)', 'LYMPH#(10^3/uL)', 'MONO#(10^3/uL)', 'EO#(10^3/uL)', 'BASO#(10^3/uL)', 'NEUT%(%)', 'LYMPH%(%)', 'MONO%(%)', 'EO%(%)', 'BASO%(%)', 'IG#(10^3/uL)', 'IG%(%)', '[WBC-D(10^3/uL)]', '[TNC-D(10^3/uL)]', '[NEUT#&(10^3/uL)]', '[NEUT%&(%)]', '[LYMP#&(10^3/uL)]', '[LYMP%&(%)]', '[HFLC#(10^3/uL)]', '[HFLC%(%)]', '[BA-D#(10^3/uL)]', '[BA-D%(%)]', '[NE-SSC(ch)]', '[NE-SFL(ch)]', '[NE-FSC(ch)]', '[LY-X(ch)]', '[LY-Y(ch)]', '[LY-Z(ch)]', '[MO-X(ch)]', '[MO-Y(ch)]', '[MO-Z(ch)]', '[NE-WX]', '[NE-WY]', '[NE-WZ]', '[LY-WX]', '[LY-WY]', '[LY-WZ]', '[MO-WX]', '[MO-WY]', '[MO-WZ]']\n"
     ]
    }
   ],
   "source": [
    "\n",
    "cols_with_nulls_lst=cols_names_with_nulls\n",
    "print(cols_with_nulls_lst)"
   ]
  },
  {
   "cell_type": "code",
   "execution_count": 30,
   "id": "a0b04853",
   "metadata": {
    "execution": {
     "iopub.execute_input": "2024-06-20T05:36:03.594097Z",
     "iopub.status.busy": "2024-06-20T05:36:03.593516Z",
     "iopub.status.idle": "2024-06-20T05:36:03.651211Z",
     "shell.execute_reply": "2024-06-20T05:36:03.649398Z"
    },
    "papermill": {
     "duration": 0.076814,
     "end_time": "2024-06-20T05:36:03.653937",
     "exception": false,
     "start_time": "2024-06-20T05:36:03.577123",
     "status": "completed"
    },
    "tags": []
   },
   "outputs": [
    {
     "name": "stdout",
     "output_type": "stream",
     "text": [
      "       NEUT#(10^3/uL)  LYMPH#(10^3/uL)  MONO#(10^3/uL)  EO#(10^3/uL)  \\\n",
      "0                1.21             1.02            0.36          0.28   \n",
      "1                8.30             4.03            2.00          2.28   \n",
      "2                3.00             2.04            0.78          0.73   \n",
      "3                3.04             2.06            0.82          0.79   \n",
      "4                1.14             1.03            0.32          0.24   \n",
      "...               ...              ...             ...           ...   \n",
      "82149            2.83             1.67            0.93          0.21   \n",
      "82150            9.68             1.13            0.96          0.01   \n",
      "82151            3.53             0.17            0.03          0.00   \n",
      "82152            5.22             1.75            1.07          0.00   \n",
      "82153            7.59             1.25            0.66          0.00   \n",
      "\n",
      "       BASO#(10^3/uL)  NEUT%(%)  LYMPH%(%)  MONO%(%)  EO%(%)  BASO%(%)  ...  \\\n",
      "0                0.15      40.0       33.8      11.9     9.3       5.0  ...   \n",
      "1                0.81      47.7       23.1      11.5    13.1       4.6  ...   \n",
      "2                0.32      43.6       29.7      11.4    10.6       4.7  ...   \n",
      "3                0.33      43.2       29.3      11.6    11.2       4.7  ...   \n",
      "4                0.13      39.9       36.0      11.2     8.4       4.5  ...   \n",
      "...               ...       ...        ...       ...     ...       ...  ...   \n",
      "82149            0.05      49.8       29.3      16.3     3.7       0.9  ...   \n",
      "82150            0.03      81.9        9.6       8.1     0.1       0.3  ...   \n",
      "82151            0.00      94.6        4.6       0.8     0.0       0.0  ...   \n",
      "82152            0.01      64.9       21.7      13.3     0.0       0.1  ...   \n",
      "82153            0.01      79.9       13.1       6.9     0.0       0.1  ...   \n",
      "\n",
      "       [MO-Z(ch)]  [NE-WX]  [NE-WY]  [NE-WZ]  [LY-WX]  [LY-WY]  [LY-WZ]  \\\n",
      "0            95.6    357.0    580.0    657.0    772.0    602.0    706.0   \n",
      "1           104.3    332.0    725.0    759.0    725.0    940.0    741.0   \n",
      "2            99.0    349.0    708.0    727.0    735.0    756.0    697.0   \n",
      "3           100.1    365.0    667.0    712.0    754.0    708.0    653.0   \n",
      "4           100.6    318.0    622.0    795.0    771.0    718.0    738.0   \n",
      "...           ...      ...      ...      ...      ...      ...      ...   \n",
      "82149        60.8    297.0    566.0    679.0    446.0    884.0    569.0   \n",
      "82150        64.6    330.0    617.0    736.0    635.0   1163.0    603.0   \n",
      "82151        72.1    395.0    711.0    636.0    594.0    631.0    450.0   \n",
      "82152        63.5    319.0    740.0    734.0   1111.0   1591.0    720.0   \n",
      "82153        64.8    309.0    690.0    651.0    647.0   1196.0    622.0   \n",
      "\n",
      "       [MO-WX]  [MO-WY]  [MO-WZ]  \n",
      "0        368.0    837.0    743.0  \n",
      "1        366.0    913.0    786.0  \n",
      "2        316.0    762.0    767.0  \n",
      "3        368.0    753.0    709.0  \n",
      "4        374.0    796.0    686.0  \n",
      "...        ...      ...      ...  \n",
      "82149    248.0    637.0    641.0  \n",
      "82150    238.0    669.0    573.0  \n",
      "82151    183.0     60.0    291.0  \n",
      "82152    271.0    651.0    552.0  \n",
      "82153    224.0    782.0    525.0  \n",
      "\n",
      "[79741 rows x 40 columns]\n",
      "       Sample Inf.  Order Type  Measurement Mode  Discrete  Judgment  \\\n",
      "0                1           0                 2         4       0.0   \n",
      "1                1           0                 2         3       0.0   \n",
      "2                1           0                 2         3       0.0   \n",
      "3                1           0                 2         4       0.0   \n",
      "4                1           0                 2         3       0.0   \n",
      "...            ...         ...               ...       ...       ...   \n",
      "82149            1           0                 2         1       1.0   \n",
      "82150            1           0                 2         1       1.0   \n",
      "82151            1           0                 2         1       1.0   \n",
      "82152            1           0                 2         1       1.0   \n",
      "82153            1           0                 2         1       1.0   \n",
      "\n",
      "       Positive(Diff.)  Positive(Morph.)  Positive(Count)  WBC Abnormal  \\\n",
      "0                    0                 0                0           0.0   \n",
      "1                    0                 0                0           0.0   \n",
      "2                    0                 0                0           0.0   \n",
      "3                    0                 0                0           0.0   \n",
      "4                    0                 0                0           0.0   \n",
      "...                ...               ...              ...           ...   \n",
      "82149                0                 1                0           0.0   \n",
      "82150                0                 1                1           1.0   \n",
      "82151                1                 0                1           1.0   \n",
      "82152                0                 1                1           1.0   \n",
      "82153                0                 1                1           0.0   \n",
      "\n",
      "       WBC Suspect  ...  NRBC#(10^3/uL)  NRBC%(%)  [PLT-I(10^3/uL)]  \\\n",
      "0              0.0  ...            0.14       4.6                87   \n",
      "1              0.0  ...            1.17       6.7               552   \n",
      "2              0.0  ...            0.43       6.3               242   \n",
      "3              0.0  ...            0.36       5.1               227   \n",
      "4              0.0  ...            0.17       5.9                88   \n",
      "...            ...  ...             ...       ...               ...   \n",
      "82149          0.0  ...            0.00       0.0               145   \n",
      "82150          0.0  ...            0.00       0.0               644   \n",
      "82151          0.0  ...            0.00       0.0               104   \n",
      "82152          1.0  ...            0.06       0.7                56   \n",
      "82153          1.0  ...            0.00       0.0                83   \n",
      "\n",
      "       MicroR(%)  MacroR(%)  [TNC(10^3/uL)]  [WBC-N(10^3/uL)]  \\\n",
      "0           20.4        2.1            3.16              3.02   \n",
      "1            3.0        4.6           18.59             17.42   \n",
      "2            6.9        3.9            7.30              6.87   \n",
      "3            6.9        3.9            7.40              7.04   \n",
      "4           20.0        2.0            3.03              2.86   \n",
      "...          ...        ...             ...               ...   \n",
      "82149        1.1        4.5            5.69              5.69   \n",
      "82150        3.7        3.6           11.81             11.81   \n",
      "82151        6.2        2.8            3.73              3.73   \n",
      "82152        5.4        4.5            8.11              8.05   \n",
      "82153        2.3        3.2            9.51              9.51   \n",
      "\n",
      "       [TNC-N(10^3/uL)]  [BA-N#(10^3/uL)]  [BA-N%(%)]  \n",
      "0                  3.16              0.15         5.0  \n",
      "1                 18.59              0.81         4.6  \n",
      "2                  7.30              0.32         4.7  \n",
      "3                  7.40              0.33         4.7  \n",
      "4                  3.03              0.13         4.5  \n",
      "...                 ...               ...         ...  \n",
      "82149              5.69              0.05         0.9  \n",
      "82150             11.81              0.03         0.3  \n",
      "82151              3.73              0.00         0.0  \n",
      "82152              8.11              0.01         0.1  \n",
      "82153              9.51              0.01         0.1  \n",
      "\n",
      "[79741 rows x 39 columns]\n"
     ]
    }
   ],
   "source": [
    "datanull=pgi_data[pgi_data.columns[pgi_data.isnull().mean()>0]]\n",
    "dataNotnull=pgi_data[pgi_data.columns[pgi_data.isnull().mean()==0]]\n",
    "print(datanull)\n",
    "print(dataNotnull)"
   ]
  },
  {
   "cell_type": "markdown",
   "id": "1b507236",
   "metadata": {
    "papermill": {
     "duration": 0.012388,
     "end_time": "2024-06-20T05:36:03.678984",
     "exception": false,
     "start_time": "2024-06-20T05:36:03.666596",
     "status": "completed"
    },
    "tags": []
   },
   "source": [
    "**Splitting the training and testing Datasets**\n",
    "* Training is done with Not Null data\n",
    "* Predictions are made on Null Data and filled into the original Dataset Finally (pgi_data)"
   ]
  },
  {
   "cell_type": "code",
   "execution_count": 31,
   "id": "5df948db",
   "metadata": {
    "execution": {
     "iopub.execute_input": "2024-06-20T05:36:03.706028Z",
     "iopub.status.busy": "2024-06-20T05:36:03.705691Z",
     "iopub.status.idle": "2024-06-20T05:36:03.728442Z",
     "shell.execute_reply": "2024-06-20T05:36:03.727559Z"
    },
    "papermill": {
     "duration": 0.038739,
     "end_time": "2024-06-20T05:36:03.730794",
     "exception": false,
     "start_time": "2024-06-20T05:36:03.692055",
     "status": "completed"
    },
    "tags": []
   },
   "outputs": [],
   "source": [
    "#we are eliminating the cols with null and training the model with other features\n",
    "x_train=dataNotnull[~pgi_data[cols_with_nulls_lst].isnull().any(axis=1)]\n",
    "x_test=dataNotnull[pgi_data[cols_with_nulls_lst].isnull().any(axis=1)]"
   ]
  },
  {
   "cell_type": "code",
   "execution_count": 32,
   "id": "1f0e7b80",
   "metadata": {
    "execution": {
     "iopub.execute_input": "2024-06-20T05:36:03.758848Z",
     "iopub.status.busy": "2024-06-20T05:36:03.758452Z",
     "iopub.status.idle": "2024-06-20T05:36:03.783970Z",
     "shell.execute_reply": "2024-06-20T05:36:03.782715Z"
    },
    "papermill": {
     "duration": 0.043793,
     "end_time": "2024-06-20T05:36:03.786891",
     "exception": false,
     "start_time": "2024-06-20T05:36:03.743098",
     "status": "completed"
    },
    "tags": []
   },
   "outputs": [],
   "source": [
    "#Here y_trian dont have any null values\n",
    "y_train=datanull[~datanull[cols_with_nulls_lst].isnull().any(axis=1)]\n",
    "y_test=datanull[datanull[cols_with_nulls_lst].isnull().any(axis=1)]"
   ]
  },
  {
   "cell_type": "code",
   "execution_count": 33,
   "id": "505c1227",
   "metadata": {
    "execution": {
     "iopub.execute_input": "2024-06-20T05:36:03.814651Z",
     "iopub.status.busy": "2024-06-20T05:36:03.814297Z",
     "iopub.status.idle": "2024-06-20T05:36:03.842298Z",
     "shell.execute_reply": "2024-06-20T05:36:03.841239Z"
    },
    "papermill": {
     "duration": 0.044597,
     "end_time": "2024-06-20T05:36:03.844596",
     "exception": false,
     "start_time": "2024-06-20T05:36:03.799999",
     "status": "completed"
    },
    "tags": []
   },
   "outputs": [
    {
     "data": {
      "text/html": [
       "<div>\n",
       "<style scoped>\n",
       "    .dataframe tbody tr th:only-of-type {\n",
       "        vertical-align: middle;\n",
       "    }\n",
       "\n",
       "    .dataframe tbody tr th {\n",
       "        vertical-align: top;\n",
       "    }\n",
       "\n",
       "    .dataframe thead th {\n",
       "        text-align: right;\n",
       "    }\n",
       "</style>\n",
       "<table border=\"1\" class=\"dataframe\">\n",
       "  <thead>\n",
       "    <tr style=\"text-align: right;\">\n",
       "      <th></th>\n",
       "      <th>NEUT#(10^3/uL)</th>\n",
       "      <th>LYMPH#(10^3/uL)</th>\n",
       "      <th>MONO#(10^3/uL)</th>\n",
       "      <th>EO#(10^3/uL)</th>\n",
       "      <th>BASO#(10^3/uL)</th>\n",
       "      <th>NEUT%(%)</th>\n",
       "      <th>LYMPH%(%)</th>\n",
       "      <th>MONO%(%)</th>\n",
       "      <th>EO%(%)</th>\n",
       "      <th>BASO%(%)</th>\n",
       "      <th>...</th>\n",
       "      <th>[MO-Z(ch)]</th>\n",
       "      <th>[NE-WX]</th>\n",
       "      <th>[NE-WY]</th>\n",
       "      <th>[NE-WZ]</th>\n",
       "      <th>[LY-WX]</th>\n",
       "      <th>[LY-WY]</th>\n",
       "      <th>[LY-WZ]</th>\n",
       "      <th>[MO-WX]</th>\n",
       "      <th>[MO-WY]</th>\n",
       "      <th>[MO-WZ]</th>\n",
       "    </tr>\n",
       "  </thead>\n",
       "  <tbody>\n",
       "    <tr>\n",
       "      <th>0</th>\n",
       "      <td>1.21</td>\n",
       "      <td>1.02</td>\n",
       "      <td>0.36</td>\n",
       "      <td>0.28</td>\n",
       "      <td>0.15</td>\n",
       "      <td>40.0</td>\n",
       "      <td>33.8</td>\n",
       "      <td>11.9</td>\n",
       "      <td>9.3</td>\n",
       "      <td>5.0</td>\n",
       "      <td>...</td>\n",
       "      <td>95.6</td>\n",
       "      <td>357.0</td>\n",
       "      <td>580.0</td>\n",
       "      <td>657.0</td>\n",
       "      <td>772.0</td>\n",
       "      <td>602.0</td>\n",
       "      <td>706.0</td>\n",
       "      <td>368.0</td>\n",
       "      <td>837.0</td>\n",
       "      <td>743.0</td>\n",
       "    </tr>\n",
       "    <tr>\n",
       "      <th>1</th>\n",
       "      <td>8.30</td>\n",
       "      <td>4.03</td>\n",
       "      <td>2.00</td>\n",
       "      <td>2.28</td>\n",
       "      <td>0.81</td>\n",
       "      <td>47.7</td>\n",
       "      <td>23.1</td>\n",
       "      <td>11.5</td>\n",
       "      <td>13.1</td>\n",
       "      <td>4.6</td>\n",
       "      <td>...</td>\n",
       "      <td>104.3</td>\n",
       "      <td>332.0</td>\n",
       "      <td>725.0</td>\n",
       "      <td>759.0</td>\n",
       "      <td>725.0</td>\n",
       "      <td>940.0</td>\n",
       "      <td>741.0</td>\n",
       "      <td>366.0</td>\n",
       "      <td>913.0</td>\n",
       "      <td>786.0</td>\n",
       "    </tr>\n",
       "    <tr>\n",
       "      <th>2</th>\n",
       "      <td>3.00</td>\n",
       "      <td>2.04</td>\n",
       "      <td>0.78</td>\n",
       "      <td>0.73</td>\n",
       "      <td>0.32</td>\n",
       "      <td>43.6</td>\n",
       "      <td>29.7</td>\n",
       "      <td>11.4</td>\n",
       "      <td>10.6</td>\n",
       "      <td>4.7</td>\n",
       "      <td>...</td>\n",
       "      <td>99.0</td>\n",
       "      <td>349.0</td>\n",
       "      <td>708.0</td>\n",
       "      <td>727.0</td>\n",
       "      <td>735.0</td>\n",
       "      <td>756.0</td>\n",
       "      <td>697.0</td>\n",
       "      <td>316.0</td>\n",
       "      <td>762.0</td>\n",
       "      <td>767.0</td>\n",
       "    </tr>\n",
       "    <tr>\n",
       "      <th>3</th>\n",
       "      <td>3.04</td>\n",
       "      <td>2.06</td>\n",
       "      <td>0.82</td>\n",
       "      <td>0.79</td>\n",
       "      <td>0.33</td>\n",
       "      <td>43.2</td>\n",
       "      <td>29.3</td>\n",
       "      <td>11.6</td>\n",
       "      <td>11.2</td>\n",
       "      <td>4.7</td>\n",
       "      <td>...</td>\n",
       "      <td>100.1</td>\n",
       "      <td>365.0</td>\n",
       "      <td>667.0</td>\n",
       "      <td>712.0</td>\n",
       "      <td>754.0</td>\n",
       "      <td>708.0</td>\n",
       "      <td>653.0</td>\n",
       "      <td>368.0</td>\n",
       "      <td>753.0</td>\n",
       "      <td>709.0</td>\n",
       "    </tr>\n",
       "    <tr>\n",
       "      <th>4</th>\n",
       "      <td>1.14</td>\n",
       "      <td>1.03</td>\n",
       "      <td>0.32</td>\n",
       "      <td>0.24</td>\n",
       "      <td>0.13</td>\n",
       "      <td>39.9</td>\n",
       "      <td>36.0</td>\n",
       "      <td>11.2</td>\n",
       "      <td>8.4</td>\n",
       "      <td>4.5</td>\n",
       "      <td>...</td>\n",
       "      <td>100.6</td>\n",
       "      <td>318.0</td>\n",
       "      <td>622.0</td>\n",
       "      <td>795.0</td>\n",
       "      <td>771.0</td>\n",
       "      <td>718.0</td>\n",
       "      <td>738.0</td>\n",
       "      <td>374.0</td>\n",
       "      <td>796.0</td>\n",
       "      <td>686.0</td>\n",
       "    </tr>\n",
       "  </tbody>\n",
       "</table>\n",
       "<p>5 rows × 40 columns</p>\n",
       "</div>"
      ],
      "text/plain": [
       "   NEUT#(10^3/uL)  LYMPH#(10^3/uL)  MONO#(10^3/uL)  EO#(10^3/uL)  \\\n",
       "0            1.21             1.02            0.36          0.28   \n",
       "1            8.30             4.03            2.00          2.28   \n",
       "2            3.00             2.04            0.78          0.73   \n",
       "3            3.04             2.06            0.82          0.79   \n",
       "4            1.14             1.03            0.32          0.24   \n",
       "\n",
       "   BASO#(10^3/uL)  NEUT%(%)  LYMPH%(%)  MONO%(%)  EO%(%)  BASO%(%)  ...  \\\n",
       "0            0.15      40.0       33.8      11.9     9.3       5.0  ...   \n",
       "1            0.81      47.7       23.1      11.5    13.1       4.6  ...   \n",
       "2            0.32      43.6       29.7      11.4    10.6       4.7  ...   \n",
       "3            0.33      43.2       29.3      11.6    11.2       4.7  ...   \n",
       "4            0.13      39.9       36.0      11.2     8.4       4.5  ...   \n",
       "\n",
       "   [MO-Z(ch)]  [NE-WX]  [NE-WY]  [NE-WZ]  [LY-WX]  [LY-WY]  [LY-WZ]  [MO-WX]  \\\n",
       "0        95.6    357.0    580.0    657.0    772.0    602.0    706.0    368.0   \n",
       "1       104.3    332.0    725.0    759.0    725.0    940.0    741.0    366.0   \n",
       "2        99.0    349.0    708.0    727.0    735.0    756.0    697.0    316.0   \n",
       "3       100.1    365.0    667.0    712.0    754.0    708.0    653.0    368.0   \n",
       "4       100.6    318.0    622.0    795.0    771.0    718.0    738.0    374.0   \n",
       "\n",
       "   [MO-WY]  [MO-WZ]  \n",
       "0    837.0    743.0  \n",
       "1    913.0    786.0  \n",
       "2    762.0    767.0  \n",
       "3    753.0    709.0  \n",
       "4    796.0    686.0  \n",
       "\n",
       "[5 rows x 40 columns]"
      ]
     },
     "execution_count": 33,
     "metadata": {},
     "output_type": "execute_result"
    }
   ],
   "source": [
    "y_train.head()"
   ]
  },
  {
   "cell_type": "code",
   "execution_count": 34,
   "id": "f69227fa",
   "metadata": {
    "execution": {
     "iopub.execute_input": "2024-06-20T05:36:03.872567Z",
     "iopub.status.busy": "2024-06-20T05:36:03.872226Z",
     "iopub.status.idle": "2024-06-20T05:36:03.895095Z",
     "shell.execute_reply": "2024-06-20T05:36:03.893987Z"
    },
    "papermill": {
     "duration": 0.039839,
     "end_time": "2024-06-20T05:36:03.897368",
     "exception": false,
     "start_time": "2024-06-20T05:36:03.857529",
     "status": "completed"
    },
    "tags": []
   },
   "outputs": [
    {
     "data": {
      "text/html": [
       "<div>\n",
       "<style scoped>\n",
       "    .dataframe tbody tr th:only-of-type {\n",
       "        vertical-align: middle;\n",
       "    }\n",
       "\n",
       "    .dataframe tbody tr th {\n",
       "        vertical-align: top;\n",
       "    }\n",
       "\n",
       "    .dataframe thead th {\n",
       "        text-align: right;\n",
       "    }\n",
       "</style>\n",
       "<table border=\"1\" class=\"dataframe\">\n",
       "  <thead>\n",
       "    <tr style=\"text-align: right;\">\n",
       "      <th></th>\n",
       "      <th>NEUT#(10^3/uL)</th>\n",
       "      <th>LYMPH#(10^3/uL)</th>\n",
       "      <th>MONO#(10^3/uL)</th>\n",
       "      <th>EO#(10^3/uL)</th>\n",
       "      <th>BASO#(10^3/uL)</th>\n",
       "      <th>NEUT%(%)</th>\n",
       "      <th>LYMPH%(%)</th>\n",
       "      <th>MONO%(%)</th>\n",
       "      <th>EO%(%)</th>\n",
       "      <th>BASO%(%)</th>\n",
       "      <th>...</th>\n",
       "      <th>[MO-Z(ch)]</th>\n",
       "      <th>[NE-WX]</th>\n",
       "      <th>[NE-WY]</th>\n",
       "      <th>[NE-WZ]</th>\n",
       "      <th>[LY-WX]</th>\n",
       "      <th>[LY-WY]</th>\n",
       "      <th>[LY-WZ]</th>\n",
       "      <th>[MO-WX]</th>\n",
       "      <th>[MO-WY]</th>\n",
       "      <th>[MO-WZ]</th>\n",
       "    </tr>\n",
       "  </thead>\n",
       "  <tbody>\n",
       "    <tr>\n",
       "      <th>12583</th>\n",
       "      <td>NaN</td>\n",
       "      <td>NaN</td>\n",
       "      <td>NaN</td>\n",
       "      <td>NaN</td>\n",
       "      <td>NaN</td>\n",
       "      <td>NaN</td>\n",
       "      <td>NaN</td>\n",
       "      <td>NaN</td>\n",
       "      <td>NaN</td>\n",
       "      <td>NaN</td>\n",
       "      <td>...</td>\n",
       "      <td>NaN</td>\n",
       "      <td>NaN</td>\n",
       "      <td>NaN</td>\n",
       "      <td>NaN</td>\n",
       "      <td>NaN</td>\n",
       "      <td>NaN</td>\n",
       "      <td>NaN</td>\n",
       "      <td>NaN</td>\n",
       "      <td>NaN</td>\n",
       "      <td>NaN</td>\n",
       "    </tr>\n",
       "    <tr>\n",
       "      <th>31712</th>\n",
       "      <td>NaN</td>\n",
       "      <td>NaN</td>\n",
       "      <td>NaN</td>\n",
       "      <td>NaN</td>\n",
       "      <td>NaN</td>\n",
       "      <td>NaN</td>\n",
       "      <td>NaN</td>\n",
       "      <td>NaN</td>\n",
       "      <td>NaN</td>\n",
       "      <td>NaN</td>\n",
       "      <td>...</td>\n",
       "      <td>NaN</td>\n",
       "      <td>NaN</td>\n",
       "      <td>NaN</td>\n",
       "      <td>NaN</td>\n",
       "      <td>NaN</td>\n",
       "      <td>NaN</td>\n",
       "      <td>NaN</td>\n",
       "      <td>NaN</td>\n",
       "      <td>NaN</td>\n",
       "      <td>NaN</td>\n",
       "    </tr>\n",
       "    <tr>\n",
       "      <th>31811</th>\n",
       "      <td>NaN</td>\n",
       "      <td>NaN</td>\n",
       "      <td>NaN</td>\n",
       "      <td>NaN</td>\n",
       "      <td>NaN</td>\n",
       "      <td>NaN</td>\n",
       "      <td>NaN</td>\n",
       "      <td>NaN</td>\n",
       "      <td>NaN</td>\n",
       "      <td>NaN</td>\n",
       "      <td>...</td>\n",
       "      <td>NaN</td>\n",
       "      <td>NaN</td>\n",
       "      <td>NaN</td>\n",
       "      <td>NaN</td>\n",
       "      <td>NaN</td>\n",
       "      <td>NaN</td>\n",
       "      <td>NaN</td>\n",
       "      <td>NaN</td>\n",
       "      <td>NaN</td>\n",
       "      <td>NaN</td>\n",
       "    </tr>\n",
       "    <tr>\n",
       "      <th>31812</th>\n",
       "      <td>NaN</td>\n",
       "      <td>NaN</td>\n",
       "      <td>NaN</td>\n",
       "      <td>NaN</td>\n",
       "      <td>NaN</td>\n",
       "      <td>NaN</td>\n",
       "      <td>NaN</td>\n",
       "      <td>NaN</td>\n",
       "      <td>NaN</td>\n",
       "      <td>NaN</td>\n",
       "      <td>...</td>\n",
       "      <td>NaN</td>\n",
       "      <td>NaN</td>\n",
       "      <td>NaN</td>\n",
       "      <td>NaN</td>\n",
       "      <td>NaN</td>\n",
       "      <td>NaN</td>\n",
       "      <td>NaN</td>\n",
       "      <td>NaN</td>\n",
       "      <td>NaN</td>\n",
       "      <td>NaN</td>\n",
       "    </tr>\n",
       "    <tr>\n",
       "      <th>31813</th>\n",
       "      <td>NaN</td>\n",
       "      <td>NaN</td>\n",
       "      <td>NaN</td>\n",
       "      <td>NaN</td>\n",
       "      <td>NaN</td>\n",
       "      <td>NaN</td>\n",
       "      <td>NaN</td>\n",
       "      <td>NaN</td>\n",
       "      <td>NaN</td>\n",
       "      <td>NaN</td>\n",
       "      <td>...</td>\n",
       "      <td>NaN</td>\n",
       "      <td>NaN</td>\n",
       "      <td>NaN</td>\n",
       "      <td>NaN</td>\n",
       "      <td>NaN</td>\n",
       "      <td>NaN</td>\n",
       "      <td>NaN</td>\n",
       "      <td>NaN</td>\n",
       "      <td>NaN</td>\n",
       "      <td>NaN</td>\n",
       "    </tr>\n",
       "  </tbody>\n",
       "</table>\n",
       "<p>5 rows × 40 columns</p>\n",
       "</div>"
      ],
      "text/plain": [
       "       NEUT#(10^3/uL)  LYMPH#(10^3/uL)  MONO#(10^3/uL)  EO#(10^3/uL)  \\\n",
       "12583             NaN              NaN             NaN           NaN   \n",
       "31712             NaN              NaN             NaN           NaN   \n",
       "31811             NaN              NaN             NaN           NaN   \n",
       "31812             NaN              NaN             NaN           NaN   \n",
       "31813             NaN              NaN             NaN           NaN   \n",
       "\n",
       "       BASO#(10^3/uL)  NEUT%(%)  LYMPH%(%)  MONO%(%)  EO%(%)  BASO%(%)  ...  \\\n",
       "12583             NaN       NaN        NaN       NaN     NaN       NaN  ...   \n",
       "31712             NaN       NaN        NaN       NaN     NaN       NaN  ...   \n",
       "31811             NaN       NaN        NaN       NaN     NaN       NaN  ...   \n",
       "31812             NaN       NaN        NaN       NaN     NaN       NaN  ...   \n",
       "31813             NaN       NaN        NaN       NaN     NaN       NaN  ...   \n",
       "\n",
       "       [MO-Z(ch)]  [NE-WX]  [NE-WY]  [NE-WZ]  [LY-WX]  [LY-WY]  [LY-WZ]  \\\n",
       "12583         NaN      NaN      NaN      NaN      NaN      NaN      NaN   \n",
       "31712         NaN      NaN      NaN      NaN      NaN      NaN      NaN   \n",
       "31811         NaN      NaN      NaN      NaN      NaN      NaN      NaN   \n",
       "31812         NaN      NaN      NaN      NaN      NaN      NaN      NaN   \n",
       "31813         NaN      NaN      NaN      NaN      NaN      NaN      NaN   \n",
       "\n",
       "       [MO-WX]  [MO-WY]  [MO-WZ]  \n",
       "12583      NaN      NaN      NaN  \n",
       "31712      NaN      NaN      NaN  \n",
       "31811      NaN      NaN      NaN  \n",
       "31812      NaN      NaN      NaN  \n",
       "31813      NaN      NaN      NaN  \n",
       "\n",
       "[5 rows x 40 columns]"
      ]
     },
     "execution_count": 34,
     "metadata": {},
     "output_type": "execute_result"
    }
   ],
   "source": [
    "#so we want to predict these cols \n",
    "y_test.head()"
   ]
  },
  {
   "cell_type": "code",
   "execution_count": 35,
   "id": "dc081321",
   "metadata": {
    "execution": {
     "iopub.execute_input": "2024-06-20T05:36:03.925439Z",
     "iopub.status.busy": "2024-06-20T05:36:03.925112Z",
     "iopub.status.idle": "2024-06-20T05:36:03.931940Z",
     "shell.execute_reply": "2024-06-20T05:36:03.930601Z"
    },
    "papermill": {
     "duration": 0.023607,
     "end_time": "2024-06-20T05:36:03.934447",
     "exception": false,
     "start_time": "2024-06-20T05:36:03.910840",
     "status": "completed"
    },
    "tags": []
   },
   "outputs": [
    {
     "data": {
      "text/plain": [
       "(79240, 39)"
      ]
     },
     "execution_count": 35,
     "metadata": {},
     "output_type": "execute_result"
    }
   ],
   "source": [
    "x_train.shape"
   ]
  },
  {
   "cell_type": "markdown",
   "id": "2e80e3ef",
   "metadata": {
    "papermill": {
     "duration": 0.01352,
     "end_time": "2024-06-20T05:36:03.962408",
     "exception": false,
     "start_time": "2024-06-20T05:36:03.948888",
     "status": "completed"
    },
    "tags": []
   },
   "source": [
    "# Buidling Regression Model"
   ]
  },
  {
   "cell_type": "code",
   "execution_count": 36,
   "id": "c1e1fc62",
   "metadata": {
    "execution": {
     "iopub.execute_input": "2024-06-20T05:36:03.994178Z",
     "iopub.status.busy": "2024-06-20T05:36:03.993780Z",
     "iopub.status.idle": "2024-06-20T05:36:04.216303Z",
     "shell.execute_reply": "2024-06-20T05:36:04.215302Z"
    },
    "papermill": {
     "duration": 0.241794,
     "end_time": "2024-06-20T05:36:04.218187",
     "exception": false,
     "start_time": "2024-06-20T05:36:03.976393",
     "status": "completed"
    },
    "tags": []
   },
   "outputs": [
    {
     "data": {
      "text/html": [
       "<style>#sk-container-id-2 {color: black;background-color: white;}#sk-container-id-2 pre{padding: 0;}#sk-container-id-2 div.sk-toggleable {background-color: white;}#sk-container-id-2 label.sk-toggleable__label {cursor: pointer;display: block;width: 100%;margin-bottom: 0;padding: 0.3em;box-sizing: border-box;text-align: center;}#sk-container-id-2 label.sk-toggleable__label-arrow:before {content: \"▸\";float: left;margin-right: 0.25em;color: #696969;}#sk-container-id-2 label.sk-toggleable__label-arrow:hover:before {color: black;}#sk-container-id-2 div.sk-estimator:hover label.sk-toggleable__label-arrow:before {color: black;}#sk-container-id-2 div.sk-toggleable__content {max-height: 0;max-width: 0;overflow: hidden;text-align: left;background-color: #f0f8ff;}#sk-container-id-2 div.sk-toggleable__content pre {margin: 0.2em;color: black;border-radius: 0.25em;background-color: #f0f8ff;}#sk-container-id-2 input.sk-toggleable__control:checked~div.sk-toggleable__content {max-height: 200px;max-width: 100%;overflow: auto;}#sk-container-id-2 input.sk-toggleable__control:checked~label.sk-toggleable__label-arrow:before {content: \"▾\";}#sk-container-id-2 div.sk-estimator input.sk-toggleable__control:checked~label.sk-toggleable__label {background-color: #d4ebff;}#sk-container-id-2 div.sk-label input.sk-toggleable__control:checked~label.sk-toggleable__label {background-color: #d4ebff;}#sk-container-id-2 input.sk-hidden--visually {border: 0;clip: rect(1px 1px 1px 1px);clip: rect(1px, 1px, 1px, 1px);height: 1px;margin: -1px;overflow: hidden;padding: 0;position: absolute;width: 1px;}#sk-container-id-2 div.sk-estimator {font-family: monospace;background-color: #f0f8ff;border: 1px dotted black;border-radius: 0.25em;box-sizing: border-box;margin-bottom: 0.5em;}#sk-container-id-2 div.sk-estimator:hover {background-color: #d4ebff;}#sk-container-id-2 div.sk-parallel-item::after {content: \"\";width: 100%;border-bottom: 1px solid gray;flex-grow: 1;}#sk-container-id-2 div.sk-label:hover label.sk-toggleable__label {background-color: #d4ebff;}#sk-container-id-2 div.sk-serial::before {content: \"\";position: absolute;border-left: 1px solid gray;box-sizing: border-box;top: 0;bottom: 0;left: 50%;z-index: 0;}#sk-container-id-2 div.sk-serial {display: flex;flex-direction: column;align-items: center;background-color: white;padding-right: 0.2em;padding-left: 0.2em;position: relative;}#sk-container-id-2 div.sk-item {position: relative;z-index: 1;}#sk-container-id-2 div.sk-parallel {display: flex;align-items: stretch;justify-content: center;background-color: white;position: relative;}#sk-container-id-2 div.sk-item::before, #sk-container-id-2 div.sk-parallel-item::before {content: \"\";position: absolute;border-left: 1px solid gray;box-sizing: border-box;top: 0;bottom: 0;left: 50%;z-index: -1;}#sk-container-id-2 div.sk-parallel-item {display: flex;flex-direction: column;z-index: 1;position: relative;background-color: white;}#sk-container-id-2 div.sk-parallel-item:first-child::after {align-self: flex-end;width: 50%;}#sk-container-id-2 div.sk-parallel-item:last-child::after {align-self: flex-start;width: 50%;}#sk-container-id-2 div.sk-parallel-item:only-child::after {width: 0;}#sk-container-id-2 div.sk-dashed-wrapped {border: 1px dashed gray;margin: 0 0.4em 0.5em 0.4em;box-sizing: border-box;padding-bottom: 0.4em;background-color: white;}#sk-container-id-2 div.sk-label label {font-family: monospace;font-weight: bold;display: inline-block;line-height: 1.2em;}#sk-container-id-2 div.sk-label-container {text-align: center;}#sk-container-id-2 div.sk-container {/* jupyter's `normalize.less` sets `[hidden] { display: none; }` but bootstrap.min.css set `[hidden] { display: none !important; }` so we also need the `!important` here to be able to override the default hidden behavior on the sphinx rendered scikit-learn.org. See: https://github.com/scikit-learn/scikit-learn/issues/21755 */display: inline-block !important;position: relative;}#sk-container-id-2 div.sk-text-repr-fallback {display: none;}</style><div id=\"sk-container-id-2\" class=\"sk-top-container\"><div class=\"sk-text-repr-fallback\"><pre>LinearRegression()</pre><b>In a Jupyter environment, please rerun this cell to show the HTML representation or trust the notebook. <br />On GitHub, the HTML representation is unable to render, please try loading this page with nbviewer.org.</b></div><div class=\"sk-container\" hidden><div class=\"sk-item\"><div class=\"sk-estimator sk-toggleable\"><input class=\"sk-toggleable__control sk-hidden--visually\" id=\"sk-estimator-id-2\" type=\"checkbox\" checked><label for=\"sk-estimator-id-2\" class=\"sk-toggleable__label sk-toggleable__label-arrow\">LinearRegression</label><div class=\"sk-toggleable__content\"><pre>LinearRegression()</pre></div></div></div></div></div>"
      ],
      "text/plain": [
       "LinearRegression()"
      ]
     },
     "execution_count": 36,
     "metadata": {},
     "output_type": "execute_result"
    }
   ],
   "source": [
    "from sklearn.linear_model import LinearRegression\n",
    "\n",
    "model=LinearRegression()\n",
    "model.fit(x_train,y_train)"
   ]
  },
  {
   "cell_type": "code",
   "execution_count": 37,
   "id": "2b405a2a",
   "metadata": {
    "execution": {
     "iopub.execute_input": "2024-06-20T05:36:04.258949Z",
     "iopub.status.busy": "2024-06-20T05:36:04.258556Z",
     "iopub.status.idle": "2024-06-20T05:36:04.273516Z",
     "shell.execute_reply": "2024-06-20T05:36:04.271680Z"
    },
    "papermill": {
     "duration": 0.043818,
     "end_time": "2024-06-20T05:36:04.281111",
     "exception": false,
     "start_time": "2024-06-20T05:36:04.237293",
     "status": "completed"
    },
    "tags": []
   },
   "outputs": [],
   "source": [
    "y_pred=model.predict(x_test)\n",
    "#now lets find the nulls and fill that with predictions\n"
   ]
  },
  {
   "cell_type": "code",
   "execution_count": 38,
   "id": "85ae8409",
   "metadata": {
    "execution": {
     "iopub.execute_input": "2024-06-20T05:36:04.346544Z",
     "iopub.status.busy": "2024-06-20T05:36:04.346213Z",
     "iopub.status.idle": "2024-06-20T05:36:04.352126Z",
     "shell.execute_reply": "2024-06-20T05:36:04.350972Z"
    },
    "papermill": {
     "duration": 0.029979,
     "end_time": "2024-06-20T05:36:04.356066",
     "exception": false,
     "start_time": "2024-06-20T05:36:04.326087",
     "status": "completed"
    },
    "tags": []
   },
   "outputs": [],
   "source": [
    "y_pred = pd.DataFrame(y_pred, columns=cols_with_nulls_lst)"
   ]
  },
  {
   "cell_type": "code",
   "execution_count": 39,
   "id": "deff606e",
   "metadata": {
    "execution": {
     "iopub.execute_input": "2024-06-20T05:36:04.395834Z",
     "iopub.status.busy": "2024-06-20T05:36:04.395477Z",
     "iopub.status.idle": "2024-06-20T05:36:04.399758Z",
     "shell.execute_reply": "2024-06-20T05:36:04.398944Z"
    },
    "papermill": {
     "duration": 0.023805,
     "end_time": "2024-06-20T05:36:04.402109",
     "exception": false,
     "start_time": "2024-06-20T05:36:04.378304",
     "status": "completed"
    },
    "tags": []
   },
   "outputs": [],
   "source": [
    "y_pred.index = y_test.index"
   ]
  },
  {
   "cell_type": "code",
   "execution_count": 40,
   "id": "e4985645",
   "metadata": {
    "execution": {
     "iopub.execute_input": "2024-06-20T05:36:04.433780Z",
     "iopub.status.busy": "2024-06-20T05:36:04.433399Z",
     "iopub.status.idle": "2024-06-20T05:36:04.439866Z",
     "shell.execute_reply": "2024-06-20T05:36:04.438192Z"
    },
    "papermill": {
     "duration": 0.026261,
     "end_time": "2024-06-20T05:36:04.442998",
     "exception": false,
     "start_time": "2024-06-20T05:36:04.416737",
     "status": "completed"
    },
    "tags": []
   },
   "outputs": [
    {
     "name": "stdout",
     "output_type": "stream",
     "text": [
      "['NEUT#(10^3/uL)', 'LYMPH#(10^3/uL)', 'MONO#(10^3/uL)', 'EO#(10^3/uL)', 'BASO#(10^3/uL)', 'NEUT%(%)', 'LYMPH%(%)', 'MONO%(%)', 'EO%(%)', 'BASO%(%)', 'IG#(10^3/uL)', 'IG%(%)', '[WBC-D(10^3/uL)]', '[TNC-D(10^3/uL)]', '[NEUT#&(10^3/uL)]', '[NEUT%&(%)]', '[LYMP#&(10^3/uL)]', '[LYMP%&(%)]', '[HFLC#(10^3/uL)]', '[HFLC%(%)]', '[BA-D#(10^3/uL)]', '[BA-D%(%)]', '[NE-SSC(ch)]', '[NE-SFL(ch)]', '[NE-FSC(ch)]', '[LY-X(ch)]', '[LY-Y(ch)]', '[LY-Z(ch)]', '[MO-X(ch)]', '[MO-Y(ch)]', '[MO-Z(ch)]', '[NE-WX]', '[NE-WY]', '[NE-WZ]', '[LY-WX]', '[LY-WY]', '[LY-WZ]', '[MO-WX]', '[MO-WY]', '[MO-WZ]']\n"
     ]
    }
   ],
   "source": [
    "cols_with_nulls_lst = [''.join(col) if isinstance(col, tuple) else col for col in cols_with_nulls_lst]\n",
    "print(cols_with_nulls_lst)"
   ]
  },
  {
   "cell_type": "code",
   "execution_count": 41,
   "id": "dceb917b",
   "metadata": {
    "execution": {
     "iopub.execute_input": "2024-06-20T05:36:04.473053Z",
     "iopub.status.busy": "2024-06-20T05:36:04.472485Z",
     "iopub.status.idle": "2024-06-20T05:36:04.554035Z",
     "shell.execute_reply": "2024-06-20T05:36:04.552205Z"
    },
    "papermill": {
     "duration": 0.099986,
     "end_time": "2024-06-20T05:36:04.557471",
     "exception": false,
     "start_time": "2024-06-20T05:36:04.457485",
     "status": "completed"
    },
    "tags": []
   },
   "outputs": [
    {
     "name": "stdout",
     "output_type": "stream",
     "text": [
      "Shape of y_pred: (501, 40)\n",
      "Columns in y_pred: Index(['NEUT#(10^3/uL)', 'LYMPH#(10^3/uL)', 'MONO#(10^3/uL)', 'EO#(10^3/uL)',\n",
      "       'BASO#(10^3/uL)', 'NEUT%(%)', 'LYMPH%(%)', 'MONO%(%)', 'EO%(%)',\n",
      "       'BASO%(%)', 'IG#(10^3/uL)', 'IG%(%)', '[WBC-D(10^3/uL)]',\n",
      "       '[TNC-D(10^3/uL)]', '[NEUT#&(10^3/uL)]', '[NEUT%&(%)]',\n",
      "       '[LYMP#&(10^3/uL)]', '[LYMP%&(%)]', '[HFLC#(10^3/uL)]', '[HFLC%(%)]',\n",
      "       '[BA-D#(10^3/uL)]', '[BA-D%(%)]', '[NE-SSC(ch)]', '[NE-SFL(ch)]',\n",
      "       '[NE-FSC(ch)]', '[LY-X(ch)]', '[LY-Y(ch)]', '[LY-Z(ch)]', '[MO-X(ch)]',\n",
      "       '[MO-Y(ch)]', '[MO-Z(ch)]', '[NE-WX]', '[NE-WY]', '[NE-WZ]', '[LY-WX]',\n",
      "       '[LY-WY]', '[LY-WZ]', '[MO-WX]', '[MO-WY]', '[MO-WZ]'],\n",
      "      dtype='object')\n",
      "Null values after filling NEUT#(10^3/uL):\n",
      "0\n",
      "Null values after filling LYMPH#(10^3/uL):\n",
      "0\n",
      "Null values after filling MONO#(10^3/uL):\n",
      "0\n",
      "Null values after filling EO#(10^3/uL):\n",
      "0\n",
      "Null values after filling BASO#(10^3/uL):\n",
      "0\n",
      "Null values after filling NEUT%(%):\n",
      "0\n",
      "Null values after filling LYMPH%(%):\n",
      "0\n",
      "Null values after filling MONO%(%):\n",
      "0\n",
      "Null values after filling EO%(%):\n",
      "0\n",
      "Null values after filling BASO%(%):\n",
      "0\n",
      "Null values after filling IG#(10^3/uL):\n",
      "0\n",
      "Null values after filling IG%(%):\n",
      "0\n",
      "Null values after filling [WBC-D(10^3/uL)]:\n",
      "0\n",
      "Null values after filling [TNC-D(10^3/uL)]:\n",
      "0\n",
      "Null values after filling [NEUT#&(10^3/uL)]:\n",
      "0\n",
      "Null values after filling [NEUT%&(%)]:\n",
      "0\n",
      "Null values after filling [LYMP#&(10^3/uL)]:\n",
      "0\n",
      "Null values after filling [LYMP%&(%)]:\n",
      "0\n",
      "Null values after filling [HFLC#(10^3/uL)]:\n",
      "0\n",
      "Null values after filling [HFLC%(%)]:\n",
      "0\n",
      "Null values after filling [BA-D#(10^3/uL)]:\n",
      "0\n",
      "Null values after filling [BA-D%(%)]:\n",
      "0\n",
      "Null values after filling [NE-SSC(ch)]:\n",
      "0\n",
      "Null values after filling [NE-SFL(ch)]:\n",
      "0\n",
      "Null values after filling [NE-FSC(ch)]:\n",
      "0\n",
      "Null values after filling [LY-X(ch)]:\n",
      "0\n",
      "Null values after filling [LY-Y(ch)]:\n",
      "0\n",
      "Null values after filling [LY-Z(ch)]:\n",
      "0\n",
      "Null values after filling [MO-X(ch)]:\n",
      "0\n",
      "Null values after filling [MO-Y(ch)]:\n",
      "0\n",
      "Null values after filling [MO-Z(ch)]:\n",
      "0\n",
      "Null values after filling [NE-WX]:\n",
      "0\n",
      "Null values after filling [NE-WY]:\n",
      "0\n",
      "Null values after filling [NE-WZ]:\n",
      "0\n",
      "Null values after filling [LY-WX]:\n",
      "0\n",
      "Null values after filling [LY-WY]:\n",
      "0\n",
      "Null values after filling [LY-WZ]:\n",
      "0\n",
      "Null values after filling [MO-WX]:\n",
      "0\n",
      "Null values after filling [MO-WY]:\n",
      "0\n",
      "Null values after filling [MO-WZ]:\n",
      "0\n",
      "Null values after filling:\n",
      " NEUT#(10^3/uL)       0\n",
      "LYMPH#(10^3/uL)      0\n",
      "MONO#(10^3/uL)       0\n",
      "EO#(10^3/uL)         0\n",
      "BASO#(10^3/uL)       0\n",
      "NEUT%(%)             0\n",
      "LYMPH%(%)            0\n",
      "MONO%(%)             0\n",
      "EO%(%)               0\n",
      "BASO%(%)             0\n",
      "IG#(10^3/uL)         0\n",
      "IG%(%)               0\n",
      "[WBC-D(10^3/uL)]     0\n",
      "[TNC-D(10^3/uL)]     0\n",
      "[NEUT#&(10^3/uL)]    0\n",
      "[NEUT%&(%)]          0\n",
      "[LYMP#&(10^3/uL)]    0\n",
      "[LYMP%&(%)]          0\n",
      "[HFLC#(10^3/uL)]     0\n",
      "[HFLC%(%)]           0\n",
      "[BA-D#(10^3/uL)]     0\n",
      "[BA-D%(%)]           0\n",
      "[NE-SSC(ch)]         0\n",
      "[NE-SFL(ch)]         0\n",
      "[NE-FSC(ch)]         0\n",
      "[LY-X(ch)]           0\n",
      "[LY-Y(ch)]           0\n",
      "[LY-Z(ch)]           0\n",
      "[MO-X(ch)]           0\n",
      "[MO-Y(ch)]           0\n",
      "[MO-Z(ch)]           0\n",
      "[NE-WX]              0\n",
      "[NE-WY]              0\n",
      "[NE-WZ]              0\n",
      "[LY-WX]              0\n",
      "[LY-WY]              0\n",
      "[LY-WZ]              0\n",
      "[MO-WX]              0\n",
      "[MO-WY]              0\n",
      "[MO-WZ]              0\n",
      "dtype: int64\n"
     ]
    }
   ],
   "source": [
    "# Create a boolean mask for rows where specified columns have null values\n",
    "null_mask = pgi_data[cols_with_nulls_lst].isnull()\n",
    "\n",
    "# Check the shape and content of y_pred\n",
    "print(\"Shape of y_pred:\", y_pred.shape)\n",
    "print(\"Columns in y_pred:\", y_pred.columns)\n",
    "\n",
    "# Apply the mask to update null values with y_pred\n",
    "for col in cols_with_nulls_lst:\n",
    "    null_indices = null_mask[col][null_mask[col]].index\n",
    "    \n",
    "    # Ensure y_pred has the same indices as null_indices\n",
    "    y_pred_col = y_pred.loc[null_indices, col].reset_index(drop=True)\n",
    "    \n",
    "    # Align the indices of pgi_data for assignment\n",
    "    pgi_data.loc[null_indices, col] = y_pred_col.values\n",
    "    \n",
    "    print(f\"Null values after filling {col}:\\n{pgi_data[col].isnull().sum()}\")\n",
    "\n",
    "# Verify that the null values have been filled\n",
    "print(\"Null values after filling:\\n\", pgi_data[cols_with_nulls_lst].isnull().sum())\n"
   ]
  },
  {
   "cell_type": "code",
   "execution_count": 42,
   "id": "b6affdd7",
   "metadata": {
    "execution": {
     "iopub.execute_input": "2024-06-20T05:36:04.589808Z",
     "iopub.status.busy": "2024-06-20T05:36:04.589447Z",
     "iopub.status.idle": "2024-06-20T05:36:08.050995Z",
     "shell.execute_reply": "2024-06-20T05:36:08.049276Z"
    },
    "papermill": {
     "duration": 3.478824,
     "end_time": "2024-06-20T05:36:08.053731",
     "exception": false,
     "start_time": "2024-06-20T05:36:04.574907",
     "status": "completed"
    },
    "tags": []
   },
   "outputs": [],
   "source": [
    "pgi_data.to_csv('pgi_data_doctor_suggested_Final_Data.csv')"
   ]
  },
  {
   "cell_type": "code",
   "execution_count": null,
   "id": "53d8b516",
   "metadata": {
    "papermill": {
     "duration": 0.019032,
     "end_time": "2024-06-20T05:36:08.091562",
     "exception": false,
     "start_time": "2024-06-20T05:36:08.072530",
     "status": "completed"
    },
    "tags": []
   },
   "outputs": [],
   "source": []
  }
 ],
 "metadata": {
  "kaggle": {
   "accelerator": "none",
   "dataSources": [
    {
     "datasetId": 5236761,
     "sourceId": 8725971,
     "sourceType": "datasetVersion"
    }
   ],
   "dockerImageVersionId": 30732,
   "isGpuEnabled": false,
   "isInternetEnabled": true,
   "language": "python",
   "sourceType": "notebook"
  },
  "kernelspec": {
   "display_name": "Python 3",
   "language": "python",
   "name": "python3"
  },
  "language_info": {
   "codemirror_mode": {
    "name": "ipython",
    "version": 3
   },
   "file_extension": ".py",
   "mimetype": "text/x-python",
   "name": "python",
   "nbconvert_exporter": "python",
   "pygments_lexer": "ipython3",
   "version": "3.10.13"
  },
  "papermill": {
   "default_parameters": {},
   "duration": 23.246216,
   "end_time": "2024-06-20T05:36:08.834502",
   "environment_variables": {},
   "exception": null,
   "input_path": "__notebook__.ipynb",
   "output_path": "__notebook__.ipynb",
   "parameters": {},
   "start_time": "2024-06-20T05:35:45.588286",
   "version": "2.5.0"
  }
 },
 "nbformat": 4,
 "nbformat_minor": 5
}
